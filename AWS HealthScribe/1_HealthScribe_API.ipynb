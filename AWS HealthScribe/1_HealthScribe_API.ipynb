{
 "cells": [
  {
   "cell_type": "markdown",
   "id": "eabd320c-6d39-4181-95c8-ef5e9f89908f",
   "metadata": {},
   "source": [
    "# Generate clinical notes with AI using AWS HealthScribe"
   ]
  },
  {
   "cell_type": "markdown",
   "id": "5589e87d-6ae2-483d-bace-726f9368020a",
   "metadata": {},
   "source": [
    "> *This notebook is compatible with SageMaker kernels `Data Science 3.0` or `conda_python3` on an `ml.t3.medium` instance*\n",
    "\n",
    "## Introduction\n",
    "\n",
    "This notebook shows how to use AWS HealthScribe Python APIs to invoke the service and how to integrate it with other AWS services."
   ]
  },
  {
   "cell_type": "markdown",
   "id": "e3d3ece0-0484-40d3-85c7-ee45087e872a",
   "metadata": {
    "tags": []
   },
   "source": [
    "## Setup\n",
    "\n",
    "Update boto3 SDK to version **`1.33.0`** or higher. This is the minimum version that supports HealthScribe APIs."
   ]
  },
  {
   "cell_type": "code",
   "execution_count": 1,
   "id": "94e5b8f9-1e26-4be8-aa66-8d3a9e61e236",
   "metadata": {
    "tags": []
   },
   "outputs": [
    {
     "name": "stdout",
     "output_type": "stream",
     "text": [
      "Requirement already satisfied: botocore in /home/ec2-user/anaconda3/envs/python3/lib/python3.10/site-packages (1.34.158)\n",
      "Requirement already satisfied: boto3 in /home/ec2-user/anaconda3/envs/python3/lib/python3.10/site-packages (1.34.158)\n",
      "Requirement already satisfied: awscli in /home/ec2-user/anaconda3/envs/python3/lib/python3.10/site-packages (1.33.40)\n",
      "Requirement already satisfied: jmespath<2.0.0,>=0.7.1 in /home/ec2-user/anaconda3/envs/python3/lib/python3.10/site-packages (from botocore) (1.0.1)\n",
      "Requirement already satisfied: python-dateutil<3.0.0,>=2.1 in /home/ec2-user/anaconda3/envs/python3/lib/python3.10/site-packages (from botocore) (2.9.0)\n",
      "Requirement already satisfied: urllib3!=2.2.0,<3,>=1.25.4 in /home/ec2-user/anaconda3/envs/python3/lib/python3.10/site-packages (from botocore) (2.2.1)\n",
      "Requirement already satisfied: s3transfer<0.11.0,>=0.10.0 in /home/ec2-user/anaconda3/envs/python3/lib/python3.10/site-packages (from boto3) (0.10.1)\n",
      "Requirement already satisfied: docutils<0.17,>=0.10 in /home/ec2-user/anaconda3/envs/python3/lib/python3.10/site-packages (from awscli) (0.16)\n",
      "Requirement already satisfied: PyYAML<6.1,>=3.10 in /home/ec2-user/anaconda3/envs/python3/lib/python3.10/site-packages (from awscli) (6.0.1)\n",
      "Requirement already satisfied: colorama<0.4.7,>=0.2.5 in /home/ec2-user/anaconda3/envs/python3/lib/python3.10/site-packages (from awscli) (0.4.6)\n",
      "Requirement already satisfied: rsa<4.8,>=3.1.2 in /home/ec2-user/anaconda3/envs/python3/lib/python3.10/site-packages (from awscli) (4.7.2)\n",
      "Requirement already satisfied: six>=1.5 in /home/ec2-user/anaconda3/envs/python3/lib/python3.10/site-packages (from python-dateutil<3.0.0,>=2.1->botocore) (1.16.0)\n",
      "Requirement already satisfied: pyasn1>=0.1.3 in /home/ec2-user/anaconda3/envs/python3/lib/python3.10/site-packages (from rsa<4.8,>=3.1.2->awscli) (0.6.0)\n"
     ]
    }
   ],
   "source": [
    "!pip install botocore boto3 awscli --upgrade"
   ]
  },
  {
   "cell_type": "markdown",
   "id": "0323f0ed-6889-430c-b8e8-50839c5b7883",
   "metadata": {},
   "source": [
    "Verify that the correct boto3 version is installed. Expected version is **`1.33.0`** or higher."
   ]
  },
  {
   "cell_type": "code",
   "execution_count": 2,
   "id": "496225da-20fd-4151-9846-3d23d19b4bb9",
   "metadata": {
    "tags": []
   },
   "outputs": [
    {
     "name": "stdout",
     "output_type": "stream",
     "text": [
      "1.34.158\r\n"
     ]
    }
   ],
   "source": [
    "!python3 -c \"import boto3; print(boto3.__version__)\""
   ]
  },
  {
   "cell_type": "markdown",
   "id": "a79a17f4-2e5a-45af-b078-dcf25dd022f9",
   "metadata": {},
   "source": [
    "## 1. Batch Transcription Using Python SDK\n",
    "\n",
    "#### 1.1. Starting an AWS HealthScribe job\n",
    "Invoking **`start_medical_scribe_job`** API to start a transcription job:"
   ]
  },
  {
   "cell_type": "code",
   "execution_count": 3,
   "id": "7682cb45-ac03-4813-9a75-3a5b7bdab8d2",
   "metadata": {
    "tags": []
   },
   "outputs": [],
   "source": [
    "import os\n",
    "import time\n",
    "import boto3\n",
    "import json\n",
    "\n",
    "transcribe = boto3.client('transcribe', 'us-east-1') # connect to the HealthScribe API service in the us-east-1 region"
   ]
  },
  {
   "cell_type": "markdown",
   "id": "0c31bb23-8f14-44c8-9496-63cea5e78806",
   "metadata": {},
   "source": [
    "This variable defines the name of the transcription job that will be created in HealthScribe."
   ]
  },
  {
   "cell_type": "code",
   "execution_count": 11,
   "id": "697d9555-b064-45fd-8541-f3f0632296d1",
   "metadata": {
    "tags": []
   },
   "outputs": [],
   "source": [
    "job_name = \"LowerBackPain\""
   ]
  },
  {
   "cell_type": "markdown",
   "id": "39162c19-eb04-4b4c-a158-3fa8655333c1",
   "metadata": {},
   "source": [
    "The s3_input_uri variable defines the S3 URI where the input audio is located. In the cell below, replace the following constants with the appropriate details for your environment:\n",
    "- **`[S3_BUCKET_NAME]`**: input S3 bucket URI\n",
    "- **`[OBJECT_NAME]`**: file name including the extension (e.g. knee-consultation.m4a)\n",
    "- **`[IAM_ROLE]`**: arn of the IAM role that will be used by HealthScribe."
   ]
  },
  {
   "cell_type": "code",
   "execution_count": 5,
   "id": "f738feeb",
   "metadata": {},
   "outputs": [],
   "source": [
    "s3_bucket = 'sample-data-024848443355-22hcl401'\n",
    "object_name = 'lower-back-consultation.m4a'\n",
    "iam_role = 'arn:aws:iam::024848443355:role/generate-clinical-notes-SageMakerNotebookRole-JGe7ip5jK3Gl'"
   ]
  },
  {
   "cell_type": "markdown",
   "id": "ee988471",
   "metadata": {},
   "source": [
    "More settings can be defined for the `start_medical_transcribe_job`, such as `VocabularyName` which is the name of a custom vocabulary to include in the transcription job, `VocabularyFilterName` the name of the custom vocabulary with words to be filtered in the transcription job along with `VocabularyFilterMethod`, which is how the custom vocabulary will be filtered (replace, delete, flag).\n",
    "\n",
    "The following job will create 2 files within the output S3 bucket, `transcript.json` which is the whole transcript and `summary.json` which is a brief summary. Both these files names will be created within a folder with the name `job_name` variable we have defined."
   ]
  },
  {
   "cell_type": "code",
   "execution_count": 12,
   "id": "a00d77a2-ac46-4e75-93fe-570dce45037e",
   "metadata": {
    "tags": []
   },
   "outputs": [
    {
     "name": "stdout",
     "output_type": "stream",
     "text": [
      "{'MedicalScribeJob': {'MedicalScribeJobName': 'LowerBackPain-v2', 'MedicalScribeJobStatus': 'IN_PROGRESS', 'Media': {'MediaFileUri': 's3://sample-data-024848443355-22hcl401/lower-back-consultation.m4a'}, 'StartTime': datetime.datetime(2024, 8, 10, 15, 24, 44, 64000, tzinfo=tzlocal()), 'CreationTime': datetime.datetime(2024, 8, 10, 15, 24, 44, 47000, tzinfo=tzlocal()), 'Settings': {'ShowSpeakerLabels': True, 'MaxSpeakerLabels': 2, 'ChannelIdentification': False}, 'DataAccessRoleArn': 'arn:aws:iam::024848443355:role/generate-clinical-notes-SageMakerNotebookRole-JGe7ip5jK3Gl'}, 'ResponseMetadata': {'RequestId': '99a09de5-2c0e-443a-8c93-1b3ce5ae4bb1', 'HTTPStatusCode': 200, 'HTTPHeaders': {'x-amzn-requestid': '99a09de5-2c0e-443a-8c93-1b3ce5ae4bb1', 'content-type': 'application/x-amz-json-1.1', 'content-length': '459', 'date': 'Sat, 10 Aug 2024 15:24:43 GMT'}, 'RetryAttempts': 0}}\n"
     ]
    }
   ],
   "source": [
    "s3_input_uri = f\"s3://{s3_bucket}/{object_name}\"\n",
    "\n",
    "output_bucket_name = s3_bucket\n",
    "\n",
    "response = transcribe.start_medical_scribe_job(\n",
    "    MedicalScribeJobName = job_name,\n",
    "    Media = {\n",
    "      'MediaFileUri': s3_input_uri\n",
    "    },\n",
    "    OutputBucketName = output_bucket_name,\n",
    "    DataAccessRoleArn = f\"{iam_role}\",\n",
    "    Settings = {\n",
    "      'ShowSpeakerLabels': True, # show speaker labels\n",
    "      'MaxSpeakerLabels': 2, # maximum amount of speakers in audio (mandatory to set because of ShowSpeakerLabels)\n",
    "      'ChannelIdentification': False # since ShowSpeakerLabels is set to true, ChannelIdentification should be set to false according to documentation\n",
    "    }\n",
    ")\n",
    "print(response)"
   ]
  },
  {
   "cell_type": "markdown",
   "id": "988c4f54-ceef-4e9f-904d-9affa2b8e59f",
   "metadata": {
    "tags": []
   },
   "source": [
    "#### 1.2. Checking job status\n",
    "\n",
    "The code below will invoke HealthScribe's **`get_medical_scribe_job`** API to retrieve the status of the job we started in the previous step. If the status is not Completed or Failed, the code waits 5 seconds to retry until the job reaches a final state."
   ]
  },
  {
   "cell_type": "code",
   "execution_count": 13,
   "id": "770f35f2-0d64-44f9-b15b-a14fcac55406",
   "metadata": {},
   "outputs": [
    {
     "name": "stdout",
     "output_type": "stream",
     "text": [
      "Not ready yet...\n",
      "Not ready yet...\n",
      "Not ready yet...\n",
      "Not ready yet...\n",
      "Not ready yet...\n",
      "Not ready yet...\n",
      "Not ready yet...\n",
      "Not ready yet...\n",
      "Not ready yet...\n",
      "Not ready yet...\n",
      "Not ready yet...\n",
      "Not ready yet...\n",
      "Not ready yet...\n",
      "Not ready yet...\n",
      "Not ready yet...\n",
      "Not ready yet...\n",
      "Not ready yet...\n",
      "Not ready yet...\n",
      "Not ready yet...\n",
      "Not ready yet...\n",
      "Not ready yet...\n",
      "Not ready yet...\n",
      "Not ready yet...\n",
      "Not ready yet...\n",
      "Not ready yet...\n",
      "Not ready yet...\n",
      "Not ready yet...\n",
      "Not ready yet...\n",
      "Not ready yet...\n",
      "Not ready yet...\n",
      "Job status: COMPLETED\n",
      "Job duration: 0:02:33.186000\n",
      "Transcription file: https://s3.us-east-1.amazonaws.com/sample-data-024848443355-22hcl401/LowerBackPain-v2/transcript.json\n",
      "Summary file: https://s3.us-east-1.amazonaws.com/sample-data-024848443355-22hcl401/LowerBackPain-v2/summary.json\n"
     ]
    }
   ],
   "source": [
    "while True:\n",
    "    status = transcribe.get_medical_scribe_job(MedicalScribeJobName = job_name) # get the status of the previous medical scribe job\n",
    "    if status['MedicalScribeJob']['MedicalScribeJobStatus'] in ['COMPLETED', 'FAILED']: # check if completed or failed\n",
    "        break\n",
    "    print(\"Not ready yet...\")\n",
    "    time.sleep(5)\n",
    "   \n",
    "print(\"Job status: \" + status.get('MedicalScribeJob').get('MedicalScribeJobStatus'))\n",
    "\n",
    "# Get time metadata for the medical scibe job\n",
    "start_time = status.get('MedicalScribeJob').get('StartTime')\n",
    "completion_time = status.get('MedicalScribeJob').get('CompletionTime')\n",
    "diff = completion_time - start_time\n",
    "\n",
    "print(\"Job duration: \" + str(diff))\n",
    "print(\"Transcription file: \" + status.get('MedicalScribeJob').get('MedicalScribeOutput').get('TranscriptFileUri'))\n",
    "print(\"Summary file: \" + status.get('MedicalScribeJob').get('MedicalScribeOutput').get('ClinicalDocumentUri'))"
   ]
  },
  {
   "cell_type": "markdown",
   "id": "eefabaca-dd93-444f-8316-1589eda7d61d",
   "metadata": {},
   "source": [
    "#### 1.3. Analysing the scribe results\n",
    "The code below will download the **`summary.json`** file generated by HealthScribe, will parse the file and extract the treatment plan."
   ]
  },
  {
   "cell_type": "code",
   "execution_count": 14,
   "id": "cab07c9a-32f2-4479-874f-f6263267d788",
   "metadata": {
    "tags": []
   },
   "outputs": [
    {
     "name": "stdout",
     "output_type": "stream",
     "text": [
      "Plan:\n",
      "\n",
      "Lower back pain\n",
      "  - Start physical therapy for a minimum of 4 weeks, ideally 6 weeks, to help relieve the lower back pain without waiting for the X-ray results. \n",
      "\n",
      "  - Take an X-ray of the lower back to check for any underlying issues causing the pain.\n",
      "\n",
      "  - Continue taking over-the-counter pain medications as needed in the meantime.\n",
      "\n",
      "  - Use a chair with lumbar support or position a pillow for lumbar support while sitting for long periods.\n",
      "\n",
      "Sleep\n",
      "  - Improve sleep habits by separating from the toddler at night to allow uninterrupted sleep and a more comfortable sleeping position.\n",
      "\n",
      "Exercise\n",
      "  - Start light exercises like walking or yoga to improve posture and handle the pain.\n",
      "\n",
      "Follow up\n",
      "  - Reassess the situation after physical therapy - if pain does not improve, order a CT scan of the lower back to further investigate the likely cause of sciatica (pinched nerve in the lower back radiating pain to legs).\n",
      "\n"
     ]
    }
   ],
   "source": [
    "s3 = boto3.client('s3', 'us-east-1') # connect to s3 service in us-east-1 region\n",
    "\n",
    "bucket = output_bucket_name\n",
    "transcription_file = job_name + \"/transcript.json\" # set transcript file name variable\n",
    "summary_file = job_name + \"/summary.json\"# set summary file name variable\n",
    "\n",
    "obj = s3.get_object(Bucket=bucket, Key=summary_file) # get S3 bucket\n",
    "summary_json = json.loads(obj['Body'].read())\n",
    "plan_list = summary_json.get(\"ClinicalDocumentation\").get(\"Sections\")[5].get(\"Summary\")\n",
    "\n",
    "print(\"Plan:\")\n",
    "plan = \"\"\n",
    "for item in plan_list:\n",
    "    plan = plan + \"\\n\" + item.get(\"SummarizedSegment\")\n",
    "print(plan)"
   ]
  },
  {
   "cell_type": "markdown",
   "id": "98bb9742-f295-4f81-8e54-7acc0cca4dab",
   "metadata": {},
   "source": [
    "Store the plan as environment variable to be used later:"
   ]
  },
  {
   "cell_type": "code",
   "execution_count": 15,
   "id": "f381233a-9179-4324-9b86-0c9fa8d22a0d",
   "metadata": {
    "tags": []
   },
   "outputs": [
    {
     "name": "stdout",
     "output_type": "stream",
     "text": [
      "Stored 'plan' (str)\n"
     ]
    }
   ],
   "source": [
    "# save plan to be used later with Bedrock in a different notebook\n",
    "%store plan"
   ]
  },
  {
   "cell_type": "markdown",
   "id": "4b7e7dd9",
   "metadata": {},
   "source": [
    "There are several sections within the summary, such as `PAST_MEDICAL_HISTORY`, `ASSESSMENT`, `PAST_FAMILY_HISTORY`, `DIAGNOSTIC_TESTING` and more. These could be especially useful when creating a patient file and want to keep track of this information. "
   ]
  },
  {
   "cell_type": "code",
   "execution_count": 17,
   "id": "53be3c9a-2fc9-4fe9-a65e-d22871d7b346",
   "metadata": {},
   "outputs": [
    {
     "name": "stdout",
     "output_type": "stream",
     "text": [
      "History:\n",
      "\n",
      "- Lower back pain for the past six weeks, radiating down the legs, making it hard to stand or sleep\n",
      "- No other significant past medical history reported\n"
     ]
    }
   ],
   "source": [
    "history_list = summary_json.get(\"ClinicalDocumentation\").get(\"Sections\")[3].get(\"Summary\")\n",
    "\n",
    "print(\"History:\")\n",
    "plan = \"\"\n",
    "for item in history_list:\n",
    "    plan = plan + \"\\n\" + item.get(\"SummarizedSegment\")\n",
    "print(plan)"
   ]
  }
 ],
 "metadata": {
  "availableInstances": [
   {
    "_defaultOrder": 0,
    "_isFastLaunch": true,
    "category": "General purpose",
    "gpuNum": 0,
    "hideHardwareSpecs": false,
    "memoryGiB": 4,
    "name": "ml.t3.medium",
    "vcpuNum": 2
   },
   {
    "_defaultOrder": 1,
    "_isFastLaunch": false,
    "category": "General purpose",
    "gpuNum": 0,
    "hideHardwareSpecs": false,
    "memoryGiB": 8,
    "name": "ml.t3.large",
    "vcpuNum": 2
   },
   {
    "_defaultOrder": 2,
    "_isFastLaunch": false,
    "category": "General purpose",
    "gpuNum": 0,
    "hideHardwareSpecs": false,
    "memoryGiB": 16,
    "name": "ml.t3.xlarge",
    "vcpuNum": 4
   },
   {
    "_defaultOrder": 3,
    "_isFastLaunch": false,
    "category": "General purpose",
    "gpuNum": 0,
    "hideHardwareSpecs": false,
    "memoryGiB": 32,
    "name": "ml.t3.2xlarge",
    "vcpuNum": 8
   },
   {
    "_defaultOrder": 4,
    "_isFastLaunch": true,
    "category": "General purpose",
    "gpuNum": 0,
    "hideHardwareSpecs": false,
    "memoryGiB": 8,
    "name": "ml.m5.large",
    "vcpuNum": 2
   },
   {
    "_defaultOrder": 5,
    "_isFastLaunch": false,
    "category": "General purpose",
    "gpuNum": 0,
    "hideHardwareSpecs": false,
    "memoryGiB": 16,
    "name": "ml.m5.xlarge",
    "vcpuNum": 4
   },
   {
    "_defaultOrder": 6,
    "_isFastLaunch": false,
    "category": "General purpose",
    "gpuNum": 0,
    "hideHardwareSpecs": false,
    "memoryGiB": 32,
    "name": "ml.m5.2xlarge",
    "vcpuNum": 8
   },
   {
    "_defaultOrder": 7,
    "_isFastLaunch": false,
    "category": "General purpose",
    "gpuNum": 0,
    "hideHardwareSpecs": false,
    "memoryGiB": 64,
    "name": "ml.m5.4xlarge",
    "vcpuNum": 16
   },
   {
    "_defaultOrder": 8,
    "_isFastLaunch": false,
    "category": "General purpose",
    "gpuNum": 0,
    "hideHardwareSpecs": false,
    "memoryGiB": 128,
    "name": "ml.m5.8xlarge",
    "vcpuNum": 32
   },
   {
    "_defaultOrder": 9,
    "_isFastLaunch": false,
    "category": "General purpose",
    "gpuNum": 0,
    "hideHardwareSpecs": false,
    "memoryGiB": 192,
    "name": "ml.m5.12xlarge",
    "vcpuNum": 48
   },
   {
    "_defaultOrder": 10,
    "_isFastLaunch": false,
    "category": "General purpose",
    "gpuNum": 0,
    "hideHardwareSpecs": false,
    "memoryGiB": 256,
    "name": "ml.m5.16xlarge",
    "vcpuNum": 64
   },
   {
    "_defaultOrder": 11,
    "_isFastLaunch": false,
    "category": "General purpose",
    "gpuNum": 0,
    "hideHardwareSpecs": false,
    "memoryGiB": 384,
    "name": "ml.m5.24xlarge",
    "vcpuNum": 96
   },
   {
    "_defaultOrder": 12,
    "_isFastLaunch": false,
    "category": "General purpose",
    "gpuNum": 0,
    "hideHardwareSpecs": false,
    "memoryGiB": 8,
    "name": "ml.m5d.large",
    "vcpuNum": 2
   },
   {
    "_defaultOrder": 13,
    "_isFastLaunch": false,
    "category": "General purpose",
    "gpuNum": 0,
    "hideHardwareSpecs": false,
    "memoryGiB": 16,
    "name": "ml.m5d.xlarge",
    "vcpuNum": 4
   },
   {
    "_defaultOrder": 14,
    "_isFastLaunch": false,
    "category": "General purpose",
    "gpuNum": 0,
    "hideHardwareSpecs": false,
    "memoryGiB": 32,
    "name": "ml.m5d.2xlarge",
    "vcpuNum": 8
   },
   {
    "_defaultOrder": 15,
    "_isFastLaunch": false,
    "category": "General purpose",
    "gpuNum": 0,
    "hideHardwareSpecs": false,
    "memoryGiB": 64,
    "name": "ml.m5d.4xlarge",
    "vcpuNum": 16
   },
   {
    "_defaultOrder": 16,
    "_isFastLaunch": false,
    "category": "General purpose",
    "gpuNum": 0,
    "hideHardwareSpecs": false,
    "memoryGiB": 128,
    "name": "ml.m5d.8xlarge",
    "vcpuNum": 32
   },
   {
    "_defaultOrder": 17,
    "_isFastLaunch": false,
    "category": "General purpose",
    "gpuNum": 0,
    "hideHardwareSpecs": false,
    "memoryGiB": 192,
    "name": "ml.m5d.12xlarge",
    "vcpuNum": 48
   },
   {
    "_defaultOrder": 18,
    "_isFastLaunch": false,
    "category": "General purpose",
    "gpuNum": 0,
    "hideHardwareSpecs": false,
    "memoryGiB": 256,
    "name": "ml.m5d.16xlarge",
    "vcpuNum": 64
   },
   {
    "_defaultOrder": 19,
    "_isFastLaunch": false,
    "category": "General purpose",
    "gpuNum": 0,
    "hideHardwareSpecs": false,
    "memoryGiB": 384,
    "name": "ml.m5d.24xlarge",
    "vcpuNum": 96
   },
   {
    "_defaultOrder": 20,
    "_isFastLaunch": false,
    "category": "General purpose",
    "gpuNum": 0,
    "hideHardwareSpecs": true,
    "memoryGiB": 0,
    "name": "ml.geospatial.interactive",
    "supportedImageNames": [
     "sagemaker-geospatial-v1-0"
    ],
    "vcpuNum": 0
   },
   {
    "_defaultOrder": 21,
    "_isFastLaunch": true,
    "category": "Compute optimized",
    "gpuNum": 0,
    "hideHardwareSpecs": false,
    "memoryGiB": 4,
    "name": "ml.c5.large",
    "vcpuNum": 2
   },
   {
    "_defaultOrder": 22,
    "_isFastLaunch": false,
    "category": "Compute optimized",
    "gpuNum": 0,
    "hideHardwareSpecs": false,
    "memoryGiB": 8,
    "name": "ml.c5.xlarge",
    "vcpuNum": 4
   },
   {
    "_defaultOrder": 23,
    "_isFastLaunch": false,
    "category": "Compute optimized",
    "gpuNum": 0,
    "hideHardwareSpecs": false,
    "memoryGiB": 16,
    "name": "ml.c5.2xlarge",
    "vcpuNum": 8
   },
   {
    "_defaultOrder": 24,
    "_isFastLaunch": false,
    "category": "Compute optimized",
    "gpuNum": 0,
    "hideHardwareSpecs": false,
    "memoryGiB": 32,
    "name": "ml.c5.4xlarge",
    "vcpuNum": 16
   },
   {
    "_defaultOrder": 25,
    "_isFastLaunch": false,
    "category": "Compute optimized",
    "gpuNum": 0,
    "hideHardwareSpecs": false,
    "memoryGiB": 72,
    "name": "ml.c5.9xlarge",
    "vcpuNum": 36
   },
   {
    "_defaultOrder": 26,
    "_isFastLaunch": false,
    "category": "Compute optimized",
    "gpuNum": 0,
    "hideHardwareSpecs": false,
    "memoryGiB": 96,
    "name": "ml.c5.12xlarge",
    "vcpuNum": 48
   },
   {
    "_defaultOrder": 27,
    "_isFastLaunch": false,
    "category": "Compute optimized",
    "gpuNum": 0,
    "hideHardwareSpecs": false,
    "memoryGiB": 144,
    "name": "ml.c5.18xlarge",
    "vcpuNum": 72
   },
   {
    "_defaultOrder": 28,
    "_isFastLaunch": false,
    "category": "Compute optimized",
    "gpuNum": 0,
    "hideHardwareSpecs": false,
    "memoryGiB": 192,
    "name": "ml.c5.24xlarge",
    "vcpuNum": 96
   },
   {
    "_defaultOrder": 29,
    "_isFastLaunch": true,
    "category": "Accelerated computing",
    "gpuNum": 1,
    "hideHardwareSpecs": false,
    "memoryGiB": 16,
    "name": "ml.g4dn.xlarge",
    "vcpuNum": 4
   },
   {
    "_defaultOrder": 30,
    "_isFastLaunch": false,
    "category": "Accelerated computing",
    "gpuNum": 1,
    "hideHardwareSpecs": false,
    "memoryGiB": 32,
    "name": "ml.g4dn.2xlarge",
    "vcpuNum": 8
   },
   {
    "_defaultOrder": 31,
    "_isFastLaunch": false,
    "category": "Accelerated computing",
    "gpuNum": 1,
    "hideHardwareSpecs": false,
    "memoryGiB": 64,
    "name": "ml.g4dn.4xlarge",
    "vcpuNum": 16
   },
   {
    "_defaultOrder": 32,
    "_isFastLaunch": false,
    "category": "Accelerated computing",
    "gpuNum": 1,
    "hideHardwareSpecs": false,
    "memoryGiB": 128,
    "name": "ml.g4dn.8xlarge",
    "vcpuNum": 32
   },
   {
    "_defaultOrder": 33,
    "_isFastLaunch": false,
    "category": "Accelerated computing",
    "gpuNum": 4,
    "hideHardwareSpecs": false,
    "memoryGiB": 192,
    "name": "ml.g4dn.12xlarge",
    "vcpuNum": 48
   },
   {
    "_defaultOrder": 34,
    "_isFastLaunch": false,
    "category": "Accelerated computing",
    "gpuNum": 1,
    "hideHardwareSpecs": false,
    "memoryGiB": 256,
    "name": "ml.g4dn.16xlarge",
    "vcpuNum": 64
   },
   {
    "_defaultOrder": 35,
    "_isFastLaunch": false,
    "category": "Accelerated computing",
    "gpuNum": 1,
    "hideHardwareSpecs": false,
    "memoryGiB": 61,
    "name": "ml.p3.2xlarge",
    "vcpuNum": 8
   },
   {
    "_defaultOrder": 36,
    "_isFastLaunch": false,
    "category": "Accelerated computing",
    "gpuNum": 4,
    "hideHardwareSpecs": false,
    "memoryGiB": 244,
    "name": "ml.p3.8xlarge",
    "vcpuNum": 32
   },
   {
    "_defaultOrder": 37,
    "_isFastLaunch": false,
    "category": "Accelerated computing",
    "gpuNum": 8,
    "hideHardwareSpecs": false,
    "memoryGiB": 488,
    "name": "ml.p3.16xlarge",
    "vcpuNum": 64
   },
   {
    "_defaultOrder": 38,
    "_isFastLaunch": false,
    "category": "Accelerated computing",
    "gpuNum": 8,
    "hideHardwareSpecs": false,
    "memoryGiB": 768,
    "name": "ml.p3dn.24xlarge",
    "vcpuNum": 96
   },
   {
    "_defaultOrder": 39,
    "_isFastLaunch": false,
    "category": "Memory Optimized",
    "gpuNum": 0,
    "hideHardwareSpecs": false,
    "memoryGiB": 16,
    "name": "ml.r5.large",
    "vcpuNum": 2
   },
   {
    "_defaultOrder": 40,
    "_isFastLaunch": false,
    "category": "Memory Optimized",
    "gpuNum": 0,
    "hideHardwareSpecs": false,
    "memoryGiB": 32,
    "name": "ml.r5.xlarge",
    "vcpuNum": 4
   },
   {
    "_defaultOrder": 41,
    "_isFastLaunch": false,
    "category": "Memory Optimized",
    "gpuNum": 0,
    "hideHardwareSpecs": false,
    "memoryGiB": 64,
    "name": "ml.r5.2xlarge",
    "vcpuNum": 8
   },
   {
    "_defaultOrder": 42,
    "_isFastLaunch": false,
    "category": "Memory Optimized",
    "gpuNum": 0,
    "hideHardwareSpecs": false,
    "memoryGiB": 128,
    "name": "ml.r5.4xlarge",
    "vcpuNum": 16
   },
   {
    "_defaultOrder": 43,
    "_isFastLaunch": false,
    "category": "Memory Optimized",
    "gpuNum": 0,
    "hideHardwareSpecs": false,
    "memoryGiB": 256,
    "name": "ml.r5.8xlarge",
    "vcpuNum": 32
   },
   {
    "_defaultOrder": 44,
    "_isFastLaunch": false,
    "category": "Memory Optimized",
    "gpuNum": 0,
    "hideHardwareSpecs": false,
    "memoryGiB": 384,
    "name": "ml.r5.12xlarge",
    "vcpuNum": 48
   },
   {
    "_defaultOrder": 45,
    "_isFastLaunch": false,
    "category": "Memory Optimized",
    "gpuNum": 0,
    "hideHardwareSpecs": false,
    "memoryGiB": 512,
    "name": "ml.r5.16xlarge",
    "vcpuNum": 64
   },
   {
    "_defaultOrder": 46,
    "_isFastLaunch": false,
    "category": "Memory Optimized",
    "gpuNum": 0,
    "hideHardwareSpecs": false,
    "memoryGiB": 768,
    "name": "ml.r5.24xlarge",
    "vcpuNum": 96
   },
   {
    "_defaultOrder": 47,
    "_isFastLaunch": false,
    "category": "Accelerated computing",
    "gpuNum": 1,
    "hideHardwareSpecs": false,
    "memoryGiB": 16,
    "name": "ml.g5.xlarge",
    "vcpuNum": 4
   },
   {
    "_defaultOrder": 48,
    "_isFastLaunch": false,
    "category": "Accelerated computing",
    "gpuNum": 1,
    "hideHardwareSpecs": false,
    "memoryGiB": 32,
    "name": "ml.g5.2xlarge",
    "vcpuNum": 8
   },
   {
    "_defaultOrder": 49,
    "_isFastLaunch": false,
    "category": "Accelerated computing",
    "gpuNum": 1,
    "hideHardwareSpecs": false,
    "memoryGiB": 64,
    "name": "ml.g5.4xlarge",
    "vcpuNum": 16
   },
   {
    "_defaultOrder": 50,
    "_isFastLaunch": false,
    "category": "Accelerated computing",
    "gpuNum": 1,
    "hideHardwareSpecs": false,
    "memoryGiB": 128,
    "name": "ml.g5.8xlarge",
    "vcpuNum": 32
   },
   {
    "_defaultOrder": 51,
    "_isFastLaunch": false,
    "category": "Accelerated computing",
    "gpuNum": 1,
    "hideHardwareSpecs": false,
    "memoryGiB": 256,
    "name": "ml.g5.16xlarge",
    "vcpuNum": 64
   },
   {
    "_defaultOrder": 52,
    "_isFastLaunch": false,
    "category": "Accelerated computing",
    "gpuNum": 4,
    "hideHardwareSpecs": false,
    "memoryGiB": 192,
    "name": "ml.g5.12xlarge",
    "vcpuNum": 48
   },
   {
    "_defaultOrder": 53,
    "_isFastLaunch": false,
    "category": "Accelerated computing",
    "gpuNum": 4,
    "hideHardwareSpecs": false,
    "memoryGiB": 384,
    "name": "ml.g5.24xlarge",
    "vcpuNum": 96
   },
   {
    "_defaultOrder": 54,
    "_isFastLaunch": false,
    "category": "Accelerated computing",
    "gpuNum": 8,
    "hideHardwareSpecs": false,
    "memoryGiB": 768,
    "name": "ml.g5.48xlarge",
    "vcpuNum": 192
   },
   {
    "_defaultOrder": 55,
    "_isFastLaunch": false,
    "category": "Accelerated computing",
    "gpuNum": 8,
    "hideHardwareSpecs": false,
    "memoryGiB": 1152,
    "name": "ml.p4d.24xlarge",
    "vcpuNum": 96
   },
   {
    "_defaultOrder": 56,
    "_isFastLaunch": false,
    "category": "Accelerated computing",
    "gpuNum": 8,
    "hideHardwareSpecs": false,
    "memoryGiB": 1152,
    "name": "ml.p4de.24xlarge",
    "vcpuNum": 96
   }
  ],
  "instance_type": "ml.t3.large",
  "kernelspec": {
   "display_name": "conda_python3",
   "language": "python",
   "name": "conda_python3"
  },
  "language_info": {
   "codemirror_mode": {
    "name": "ipython",
    "version": 3
   },
   "file_extension": ".py",
   "mimetype": "text/x-python",
   "name": "python",
   "nbconvert_exporter": "python",
   "pygments_lexer": "ipython3",
   "version": "3.10.14"
  }
 },
 "nbformat": 4,
 "nbformat_minor": 5
}

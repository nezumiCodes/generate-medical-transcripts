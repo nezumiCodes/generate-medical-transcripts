{
 "cells": [
  {
   "cell_type": "markdown",
   "id": "eabd320c-6d39-4181-95c8-ef5e9f89908f",
   "metadata": {},
   "source": [
    "# Generate clinical plans from patient-physician audio interviews\n",
    "\n",
    "This notebook demonstrates how to generate clinical plans from patient-physician audio interviews using AWS Managed services and Claude 3 generalised large language model family.  \n",
    "\n",
    "## Prerequisites\n",
    "- Verify that model access to Anthropic's Claude 3 Sonnet and Haiku is granted to the account being used, see documentation here: [Amazon Bedrock Model Access](https://docs.aws.amazon.com/bedrock/latest/userguide/model-access.html)\n",
    "\n",
    "## Instructions\n",
    "1. The notebook is designed to run with Amazon SageMaker Notebook Instance. For instructions on how to onboard to a Sagemaker Notebook Instances, refer to this [link](https://docs.aws.amazon.com/sagemaker/latest/dg/nbi.html).\n",
    "\n",
    "2. Update your SageMaker IAM role (created when you initially set up the Sagemaker Notebook Instance) to\n",
    " contain the following AWS managed policies:\n",
    "\n",
    "- [AmazonBedrockFullAccess](https://docs.aws.amazon.com/aws-managed-policy/latest/reference/AmazonBedrockFullAccess.html)\n",
    "- [AmazonTranscribeFullAccess](https://docs.aws.amazon.com/aws-managed-policy/latest/reference/AmazonTranscribeFullAccess.html) \n",
    "\n",
    "You can find the SageMaker IAM role attached to your Notebook Instance from the **Amazon SageMaker Console** -> **Notebook Instance** in the section **Permissions and encryption**, as shown below:\n"
   ]
  },
  {
   "cell_type": "markdown",
   "id": "e3d3ece0-0484-40d3-85c7-ee45087e872a",
   "metadata": {
    "tags": []
   },
   "source": [
    "## Environment Setup\n",
    "\n",
    "Update boto3 SDK to version **`1.33.0`** or higher."
   ]
  },
  {
   "cell_type": "code",
   "execution_count": 1,
   "id": "94e5b8f9-1e26-4be8-aa66-8d3a9e61e236",
   "metadata": {
    "jupyter": {
     "outputs_hidden": false
    },
    "tags": []
   },
   "outputs": [
    {
     "name": "stdout",
     "output_type": "stream",
     "text": [
      "Requirement already satisfied: botocore in /home/ec2-user/anaconda3/envs/python3/lib/python3.10/site-packages (1.34.158)\n",
      "Requirement already satisfied: boto3 in /home/ec2-user/anaconda3/envs/python3/lib/python3.10/site-packages (1.34.158)\n",
      "Requirement already satisfied: awscli in /home/ec2-user/anaconda3/envs/python3/lib/python3.10/site-packages (1.33.40)\n",
      "Collecting tscribe\n",
      "  Downloading tscribe-1.3.1-py3-none-any.whl.metadata (2.9 kB)\n",
      "Requirement already satisfied: pandas in /home/ec2-user/anaconda3/envs/python3/lib/python3.10/site-packages (2.2.2)\n",
      "Requirement already satisfied: ipython in /home/ec2-user/anaconda3/envs/python3/lib/python3.10/site-packages (8.25.0)\n",
      "Collecting ipython\n",
      "  Using cached ipython-8.26.0-py3-none-any.whl.metadata (5.0 kB)\n",
      "Requirement already satisfied: jmespath<2.0.0,>=0.7.1 in /home/ec2-user/anaconda3/envs/python3/lib/python3.10/site-packages (from botocore) (1.0.1)\n",
      "Requirement already satisfied: python-dateutil<3.0.0,>=2.1 in /home/ec2-user/anaconda3/envs/python3/lib/python3.10/site-packages (from botocore) (2.9.0)\n",
      "Requirement already satisfied: urllib3!=2.2.0,<3,>=1.25.4 in /home/ec2-user/anaconda3/envs/python3/lib/python3.10/site-packages (from botocore) (2.2.1)\n",
      "Requirement already satisfied: s3transfer<0.11.0,>=0.10.0 in /home/ec2-user/anaconda3/envs/python3/lib/python3.10/site-packages (from boto3) (0.10.1)\n",
      "Requirement already satisfied: docutils<0.17,>=0.10 in /home/ec2-user/anaconda3/envs/python3/lib/python3.10/site-packages (from awscli) (0.16)\n",
      "Requirement already satisfied: PyYAML<6.1,>=3.10 in /home/ec2-user/anaconda3/envs/python3/lib/python3.10/site-packages (from awscli) (6.0.1)\n",
      "Requirement already satisfied: colorama<0.4.7,>=0.2.5 in /home/ec2-user/anaconda3/envs/python3/lib/python3.10/site-packages (from awscli) (0.4.6)\n",
      "Requirement already satisfied: rsa<4.8,>=3.1.2 in /home/ec2-user/anaconda3/envs/python3/lib/python3.10/site-packages (from awscli) (4.7.2)\n",
      "Collecting python-docx (from tscribe)\n",
      "  Downloading python_docx-1.1.2-py3-none-any.whl.metadata (2.0 kB)\n",
      "Requirement already satisfied: matplotlib in /home/ec2-user/anaconda3/envs/python3/lib/python3.10/site-packages (from tscribe) (3.8.4)\n",
      "Collecting webvtt-py (from tscribe)\n",
      "  Downloading webvtt_py-0.5.1-py3-none-any.whl.metadata (3.4 kB)\n",
      "Requirement already satisfied: numpy>=1.22.4 in /home/ec2-user/anaconda3/envs/python3/lib/python3.10/site-packages (from pandas) (1.22.4)\n",
      "Requirement already satisfied: pytz>=2020.1 in /home/ec2-user/anaconda3/envs/python3/lib/python3.10/site-packages (from pandas) (2024.1)\n",
      "Requirement already satisfied: tzdata>=2022.7 in /home/ec2-user/anaconda3/envs/python3/lib/python3.10/site-packages (from pandas) (2024.1)\n",
      "Requirement already satisfied: decorator in /home/ec2-user/anaconda3/envs/python3/lib/python3.10/site-packages (from ipython) (5.1.1)\n",
      "Requirement already satisfied: jedi>=0.16 in /home/ec2-user/anaconda3/envs/python3/lib/python3.10/site-packages (from ipython) (0.18.2)\n",
      "Requirement already satisfied: matplotlib-inline in /home/ec2-user/anaconda3/envs/python3/lib/python3.10/site-packages (from ipython) (0.1.7)\n",
      "Requirement already satisfied: prompt-toolkit<3.1.0,>=3.0.41 in /home/ec2-user/anaconda3/envs/python3/lib/python3.10/site-packages (from ipython) (3.0.46)\n",
      "Requirement already satisfied: pygments>=2.4.0 in /home/ec2-user/anaconda3/envs/python3/lib/python3.10/site-packages (from ipython) (2.18.0)\n",
      "Requirement already satisfied: stack-data in /home/ec2-user/anaconda3/envs/python3/lib/python3.10/site-packages (from ipython) (0.6.2)\n",
      "Requirement already satisfied: traitlets>=5.13.0 in /home/ec2-user/anaconda3/envs/python3/lib/python3.10/site-packages (from ipython) (5.14.3)\n",
      "Requirement already satisfied: exceptiongroup in /home/ec2-user/anaconda3/envs/python3/lib/python3.10/site-packages (from ipython) (1.2.0)\n",
      "Requirement already satisfied: typing-extensions>=4.6 in /home/ec2-user/anaconda3/envs/python3/lib/python3.10/site-packages (from ipython) (4.12.1)\n",
      "Requirement already satisfied: pexpect>4.3 in /home/ec2-user/anaconda3/envs/python3/lib/python3.10/site-packages (from ipython) (4.9.0)\n",
      "Requirement already satisfied: parso<0.9.0,>=0.8.0 in /home/ec2-user/anaconda3/envs/python3/lib/python3.10/site-packages (from jedi>=0.16->ipython) (0.8.4)\n",
      "Requirement already satisfied: ptyprocess>=0.5 in /home/ec2-user/anaconda3/envs/python3/lib/python3.10/site-packages (from pexpect>4.3->ipython) (0.7.0)\n",
      "Requirement already satisfied: wcwidth in /home/ec2-user/anaconda3/envs/python3/lib/python3.10/site-packages (from prompt-toolkit<3.1.0,>=3.0.41->ipython) (0.2.13)\n",
      "Requirement already satisfied: six>=1.5 in /home/ec2-user/anaconda3/envs/python3/lib/python3.10/site-packages (from python-dateutil<3.0.0,>=2.1->botocore) (1.16.0)\n",
      "Requirement already satisfied: pyasn1>=0.1.3 in /home/ec2-user/anaconda3/envs/python3/lib/python3.10/site-packages (from rsa<4.8,>=3.1.2->awscli) (0.6.0)\n",
      "Requirement already satisfied: contourpy>=1.0.1 in /home/ec2-user/anaconda3/envs/python3/lib/python3.10/site-packages (from matplotlib->tscribe) (1.2.1)\n",
      "Requirement already satisfied: cycler>=0.10 in /home/ec2-user/anaconda3/envs/python3/lib/python3.10/site-packages (from matplotlib->tscribe) (0.12.1)\n",
      "Requirement already satisfied: fonttools>=4.22.0 in /home/ec2-user/anaconda3/envs/python3/lib/python3.10/site-packages (from matplotlib->tscribe) (4.53.0)\n",
      "Requirement already satisfied: kiwisolver>=1.3.1 in /home/ec2-user/anaconda3/envs/python3/lib/python3.10/site-packages (from matplotlib->tscribe) (1.4.5)\n",
      "Requirement already satisfied: packaging>=20.0 in /home/ec2-user/anaconda3/envs/python3/lib/python3.10/site-packages (from matplotlib->tscribe) (21.3)\n",
      "Requirement already satisfied: pillow>=8 in /home/ec2-user/anaconda3/envs/python3/lib/python3.10/site-packages (from matplotlib->tscribe) (10.3.0)\n",
      "Requirement already satisfied: pyparsing>=2.3.1 in /home/ec2-user/anaconda3/envs/python3/lib/python3.10/site-packages (from matplotlib->tscribe) (3.1.2)\n",
      "Collecting lxml>=3.1.0 (from python-docx->tscribe)\n",
      "  Downloading lxml-5.3.0-cp310-cp310-manylinux_2_17_x86_64.manylinux2014_x86_64.whl.metadata (3.8 kB)\n",
      "Requirement already satisfied: executing>=1.2.0 in /home/ec2-user/anaconda3/envs/python3/lib/python3.10/site-packages (from stack-data->ipython) (2.0.1)\n",
      "Requirement already satisfied: asttokens>=2.1.0 in /home/ec2-user/anaconda3/envs/python3/lib/python3.10/site-packages (from stack-data->ipython) (2.4.1)\n",
      "Requirement already satisfied: pure-eval in /home/ec2-user/anaconda3/envs/python3/lib/python3.10/site-packages (from stack-data->ipython) (0.2.2)\n",
      "Downloading tscribe-1.3.1-py3-none-any.whl (7.2 kB)\n",
      "Using cached ipython-8.26.0-py3-none-any.whl (817 kB)\n",
      "Downloading python_docx-1.1.2-py3-none-any.whl (244 kB)\n",
      "\u001b[2K   \u001b[90m━━━━━━━━━━━━━━━━━━━━━━━━━━━━━━━━━━━━━━━━\u001b[0m \u001b[32m244.3/244.3 kB\u001b[0m \u001b[31m21.3 MB/s\u001b[0m eta \u001b[36m0:00:00\u001b[0m\n",
      "\u001b[?25hDownloading webvtt_py-0.5.1-py3-none-any.whl (19 kB)\n",
      "Downloading lxml-5.3.0-cp310-cp310-manylinux_2_17_x86_64.manylinux2014_x86_64.whl (5.0 MB)\n",
      "\u001b[2K   \u001b[90m━━━━━━━━━━━━━━━━━━━━━━━━━━━━━━━━━━━━━━━━\u001b[0m \u001b[32m5.0/5.0 MB\u001b[0m \u001b[31m122.0 MB/s\u001b[0m eta \u001b[36m0:00:00\u001b[0m00:01\u001b[0m\n",
      "\u001b[?25hInstalling collected packages: webvtt-py, lxml, python-docx, tscribe, ipython\n",
      "  Attempting uninstall: ipython\n",
      "    Found existing installation: ipython 8.25.0\n",
      "    Uninstalling ipython-8.25.0:\n",
      "      Successfully uninstalled ipython-8.25.0\n",
      "\u001b[31mERROR: pip's dependency resolver does not currently take into account all the packages that are installed. This behaviour is the source of the following dependency conflicts.\n",
      "hdijupyterutils 0.21.0 requires pandas<2.0.0,>=0.17.1, but you have pandas 2.2.2 which is incompatible.\n",
      "sparkmagic 0.21.0 requires pandas<2.0.0,>=0.17.1, but you have pandas 2.2.2 which is incompatible.\u001b[0m\u001b[31m\n",
      "\u001b[0mSuccessfully installed ipython-8.26.0 lxml-5.3.0 python-docx-1.1.2 tscribe-1.3.1 webvtt-py-0.5.1\n"
     ]
    }
   ],
   "source": [
    "!pip install botocore boto3 awscli tscribe pandas ipython --upgrade"
   ]
  },
  {
   "cell_type": "markdown",
   "id": "a79a17f4-2e5a-45af-b078-dcf25dd022f9",
   "metadata": {},
   "source": [
    "## 1. Batch Transcription Using Python SDK\n",
    "\n",
    "Setting up the environment with the AWS clients and libraries. When setting up a custom name for the sagemaker session bucket, it's essential to start the bucket name with `sagemaker-xxxx`. If not, then the bucket needs to have `S3FullAccess`."
   ]
  },
  {
   "cell_type": "code",
   "execution_count": 52,
   "id": "7682cb45-ac03-4813-9a75-3a5b7bdab8d2",
   "metadata": {
    "ExecuteTime": {
     "end_time": "2024-03-20T12:55:55.663104Z",
     "start_time": "2024-03-20T12:55:54.911842Z"
    },
    "tags": []
   },
   "outputs": [],
   "source": [
    "import os\n",
    "import time\n",
    "import boto3\n",
    "import json\n",
    "import tscribe\n",
    "import pandas\n",
    "import datetime\n",
    "from IPython.display import display_markdown, Markdown, clear_output\n",
    "import sagemaker\n",
    "\n",
    "bucket = \"sagemaker-physician-patient-interviews\"\n",
    "# create SageMaker session object to interact with SageMaker resources with custom bucket name\n",
    "sagemaker_session = sagemaker.Session(default_bucket = bucket) \n",
    "region = sagemaker_session.boto_session.region_name # get region from boto3 session\n",
    "\n",
    "s3 = boto3.client('s3', region) # connect to AWS S3 service\n",
    "transcribe = boto3.client('transcribe', region) # connect to Amazon Transcribe service"
   ]
  },
  {
   "cell_type": "markdown",
   "id": "01471294-cbef-41a1-bcaa-16cd112be884",
   "metadata": {},
   "source": [
    "#### 1.1. Download the recordings"
   ]
  },
  {
   "cell_type": "markdown",
   "id": "18a2b512-2c9d-4c10-8468-0be748883b98",
   "metadata": {},
   "source": [
    "We will use the sample recording published as part of the supplemental materials of the following paper \"Fareez, F., Parikh, T., Wavell, C. et al. A dataset of simulated patient-physician medical interviews with a focus on respiratory cases. Sci Data 9, 313 (2022). https://doi.org/10.1038/s41597-022-01423-1 "
   ]
  },
  {
   "cell_type": "code",
   "execution_count": 3,
   "id": "64d1b015-6256-4a94-b030-7429878cc380",
   "metadata": {
    "ExecuteTime": {
     "end_time": "2024-03-20T12:55:55.670916Z",
     "start_time": "2024-03-20T12:55:55.663319Z"
    },
    "tags": []
   },
   "outputs": [
    {
     "name": "stdout",
     "output_type": "stream",
     "text": [
      "  % Total    % Received % Xferd  Average Speed   Time    Time     Time  Current\n",
      "                                 Dload  Upload   Total   Spent    Left  Speed\n",
      "  0     0    0     0    0     0      0      0 --:--:-- --:--:-- --:--:--     0\n",
      "100  986M  100  986M    0     0  39.5M      0  0:00:24  0:00:24 --:--:-- 39.9M\n"
     ]
    }
   ],
   "source": [
    "!curl -L --output data.zip https://springernature.figshare.com/ndownloader/files/30598530"
   ]
  },
  {
   "cell_type": "code",
   "execution_count": 4,
   "id": "bf055027-08be-4ad3-87b2-ef073258df1d",
   "metadata": {
    "tags": []
   },
   "outputs": [],
   "source": [
    "!unzip -qq -o data.zip"
   ]
  },
  {
   "cell_type": "markdown",
   "id": "99ab4958",
   "metadata": {},
   "source": [
    "Input the data within the specified bucket, using a prefix. This prefix will create a 'folder' within the bucket. For S3, the concepts of folders doesn't exist, it's a path, however within the UI they show as folders. "
   ]
  },
  {
   "cell_type": "code",
   "execution_count": 54,
   "id": "664d7c9c-ce26-44a3-8b06-5038ee68aaed",
   "metadata": {
    "ExecuteTime": {
     "end_time": "2024-03-20T12:55:55.670916Z",
     "start_time": "2024-03-20T12:55:55.663319Z"
    },
    "tags": []
   },
   "outputs": [
    {
     "name": "stdout",
     "output_type": "stream",
     "text": [
      "input spec (in this case, just an S3 path): s3://sagemaker-physician-patient-interviews/rawdata\n"
     ]
    }
   ],
   "source": [
    "prefix = \"rawdata\"\n",
    "inputs = sagemaker_session.upload_data(path=\"Data\", key_prefix=prefix) # upload data to s3 bucket within 'prefix folder'\n",
    "print(\"input spec (in this case, just an S3 path): {}\".format(inputs))"
   ]
  },
  {
   "cell_type": "markdown",
   "id": "39162c19-eb04-4b4c-a158-3fa8655333c1",
   "metadata": {},
   "source": [
    "In the variable below, indicate the name of the recorded session you want to transcribe and summarise, any object is fine:  \n",
    "- **`[object_name]`**: file name including the extension (e.g. RES0037.mp3)"
   ]
  },
  {
   "cell_type": "code",
   "execution_count": 55,
   "id": "f55f8e56-845b-45eb-9e1c-f06a6efe0c9c",
   "metadata": {
    "ExecuteTime": {
     "end_time": "2024-03-20T12:57:10.008552Z",
     "start_time": "2024-03-20T12:57:09.999081Z"
    },
    "tags": []
   },
   "outputs": [],
   "source": [
    "object_name = \"RES0038.mp3\""
   ]
  },
  {
   "cell_type": "markdown",
   "id": "c1cfa6ae-48de-43a9-bf41-1164cbf8303f",
   "metadata": {},
   "source": [
    "We will prefill the value of the `[job_name]` variable such to create unique Transcribe jobs."
   ]
  },
  {
   "cell_type": "code",
   "execution_count": 58,
   "id": "ab69da5a-c1a7-4dd2-9918-bf6ae86f3669",
   "metadata": {
    "ExecuteTime": {
     "end_time": "2024-03-20T12:57:12.949994Z",
     "start_time": "2024-03-20T12:57:12.941044Z"
    },
    "tags": []
   },
   "outputs": [],
   "source": [
    "timestamp = datetime.datetime.now().strftime(\"%Y-%m-%d-%H%M%S\")\n",
    "media_uri = f\"s3://{bucket}/{prefix}/{'Audio Recordings'}/{object_name}\"\n",
    "job_name = \"transcribe-%s-%s\" % (object_name.split(\".\")[0],timestamp)"
   ]
  },
  {
   "cell_type": "markdown",
   "id": "d1cf523a-dd5f-4173-8bd0-86dd9e971dca",
   "metadata": {},
   "source": [
    "#### 1.2. Starting an AWS Transcribe job\n",
    "Invoking **`start_transcription_job`** API to start a transcription job. This is different from the `start_medical_scribe_job` API which is specific for medical jobs. **With this API, the output is only transcription and no summary; the summary will be later generated using LLM models.**"
   ]
  },
  {
   "cell_type": "code",
   "execution_count": 59,
   "id": "a00d77a2-ac46-4e75-93fe-570dce45037e",
   "metadata": {
    "ExecuteTime": {
     "end_time": "2024-03-20T12:57:15.701613Z",
     "start_time": "2024-03-20T12:57:14.962568Z"
    },
    "tags": []
   },
   "outputs": [
    {
     "name": "stdout",
     "output_type": "stream",
     "text": [
      "{'TranscriptionJob': {'TranscriptionJobName': 'transcribe-RES0038-2024-08-11-185736', 'TranscriptionJobStatus': 'IN_PROGRESS', 'LanguageCode': 'en-US', 'Media': {'MediaFileUri': 's3://sagemaker-physician-patient-interviews/rawdata/Audio Recordings/RES0038.mp3'}, 'StartTime': datetime.datetime(2024, 8, 11, 18, 57, 43, 69000, tzinfo=tzlocal()), 'CreationTime': datetime.datetime(2024, 8, 11, 18, 57, 43, 43000, tzinfo=tzlocal()), 'Settings': {'ShowSpeakerLabels': True, 'MaxSpeakerLabels': 2, 'ChannelIdentification': False}}, 'ResponseMetadata': {'RequestId': '4673b4ee-59cb-4ead-89a2-903612c33d7b', 'HTTPStatusCode': 200, 'HTTPHeaders': {'x-amzn-requestid': '4673b4ee-59cb-4ead-89a2-903612c33d7b', 'content-type': 'application/x-amz-json-1.1', 'content-length': '404', 'date': 'Sun, 11 Aug 2024 18:57:42 GMT'}, 'RetryAttempts': 0}}\n"
     ]
    }
   ],
   "source": [
    "response = transcribe.start_transcription_job(\n",
    "    TranscriptionJobName=job_name,\n",
    "    LanguageCode='en-US', # language code (if known)\n",
    "    Media={\n",
    "        'MediaFileUri': str(media_uri)\n",
    "    },\n",
    "    OutputBucketName=bucket,\n",
    "    Settings={\n",
    "        'ShowSpeakerLabels': True,\n",
    "        'MaxSpeakerLabels': 2,\n",
    "        'ChannelIdentification': False\n",
    "    }\n",
    ")\n",
    "print(response)"
   ]
  },
  {
   "cell_type": "markdown",
   "id": "988c4f54-ceef-4e9f-904d-9affa2b8e59f",
   "metadata": {
    "tags": []
   },
   "source": [
    "#### 1.3. Checking job status\n",
    "\n",
    "The code below will invoke Transcribe **`get_transcription_job`** API to retrieve the status of the job we started in the previous step. If the status is not Completed or Failed, the code waits 5 seconds to retry until the job reaches a final state."
   ]
  },
  {
   "cell_type": "code",
   "execution_count": 60,
   "id": "770f35f2-0d64-44f9-b15b-a14fcac55406",
   "metadata": {
    "ExecuteTime": {
     "start_time": "2024-03-20T12:57:17.510371Z"
    },
    "is_executing": true,
    "tags": []
   },
   "outputs": [
    {
     "name": "stdout",
     "output_type": "stream",
     "text": [
      "Job status: transcribe-RES0038-2024-08-11-185736\n",
      "Job duration: 0:00:56.530000\n",
      "Transcription file: https://s3.us-east-1.amazonaws.com/sagemaker-physician-patient-interviews/transcribe-RES0038-2024-08-11-185736.json\n"
     ]
    }
   ],
   "source": [
    "while True:\n",
    "    status = transcribe.get_transcription_job(TranscriptionJobName=job_name)\n",
    "    if status['TranscriptionJob']['TranscriptionJobStatus'] in ['COMPLETED', 'FAILED']:\n",
    "        break\n",
    "    print(\"Not ready yet...\")\n",
    "    time.sleep(5)\n",
    "\n",
    "print(\"Job status: \" + status.get('TranscriptionJob').get('TranscriptionJobName'))\n",
    "\n",
    "start_time = status.get('TranscriptionJob').get('StartTime')\n",
    "completion_time = status.get('TranscriptionJob').get('CompletionTime')\n",
    "diff = completion_time - start_time\n",
    "\n",
    "print(\"Job duration: \" + str(diff))\n",
    "print(\"Transcription file: \" + status.get('TranscriptionJob').get('Transcript').get('TranscriptFileUri'))"
   ]
  },
  {
   "cell_type": "markdown",
   "id": "eefabaca-dd93-444f-8316-1589eda7d61d",
   "metadata": {},
   "source": [
    "#### 1.4. Analysing the scribe results\n",
    "The code below will download the **`transcribe.json`** file generated by Transcribe, will parse the file and extract the diarised transcription."
   ]
  },
  {
   "cell_type": "code",
   "execution_count": 61,
   "id": "cab07c9a-32f2-4479-874f-f6263267d788",
   "metadata": {
    "ExecuteTime": {
     "end_time": "2024-03-19T12:32:53.204194Z",
     "start_time": "2024-03-19T12:32:48.228374Z"
    },
    "tags": []
   },
   "outputs": [],
   "source": [
    "transcription_file = job_name + \".json\"\n",
    "\n",
    "transcription = s3.get_object(Bucket=bucket, Key=transcription_file) # fetch transcription file from the S3 bucket\n",
    "body = json.loads(transcription['Body'].read())\n",
    "\n",
    "s3.download_file(bucket, transcription_file, \"output.json\") # download transcription as output.json, saved within Jupyter directory"
   ]
  },
  {
   "cell_type": "code",
   "execution_count": 62,
   "id": "2ec58cb483baf100",
   "metadata": {
    "ExecuteTime": {
     "end_time": "2024-03-19T12:35:29.483130Z",
     "start_time": "2024-03-19T12:35:28.789875Z"
    },
    "jupyter": {
     "source_hidden": true
    },
    "tags": []
   },
   "outputs": [
    {
     "name": "stdout",
     "output_type": "stream",
     "text": [
      "output.csv written in 0.97 seconds.\n"
     ]
    },
    {
     "data": {
      "text/html": [
       "<div>\n",
       "<style scoped>\n",
       "    .dataframe tbody tr th:only-of-type {\n",
       "        vertical-align: middle;\n",
       "    }\n",
       "\n",
       "    .dataframe tbody tr th {\n",
       "        vertical-align: top;\n",
       "    }\n",
       "\n",
       "    .dataframe thead th {\n",
       "        text-align: right;\n",
       "    }\n",
       "</style>\n",
       "<table border=\"1\" class=\"dataframe\">\n",
       "  <thead>\n",
       "    <tr style=\"text-align: right;\">\n",
       "      <th></th>\n",
       "      <th>line</th>\n",
       "      <th>start_time</th>\n",
       "      <th>end_time</th>\n",
       "      <th>speaker</th>\n",
       "      <th>comment</th>\n",
       "    </tr>\n",
       "  </thead>\n",
       "  <tbody>\n",
       "    <tr>\n",
       "      <th>0</th>\n",
       "      <td>0</td>\n",
       "      <td>00:00:00</td>\n",
       "      <td>00:00:02</td>\n",
       "      <td>spk_0</td>\n",
       "      <td>So what brings you in here today at the Family...</td>\n",
       "    </tr>\n",
       "    <tr>\n",
       "      <th>1</th>\n",
       "      <td>1</td>\n",
       "      <td>00:00:03</td>\n",
       "      <td>00:00:11</td>\n",
       "      <td>spk_1</td>\n",
       "      <td>Uh, I've been, been coughing these last, uh, t...</td>\n",
       "    </tr>\n",
       "    <tr>\n",
       "      <th>2</th>\n",
       "      <td>2</td>\n",
       "      <td>00:00:11</td>\n",
       "      <td>00:00:13</td>\n",
       "      <td>spk_1</td>\n",
       "      <td>I think I got sick there.</td>\n",
       "    </tr>\n",
       "    <tr>\n",
       "      <th>3</th>\n",
       "      <td>3</td>\n",
       "      <td>00:00:14</td>\n",
       "      <td>00:00:18</td>\n",
       "      <td>spk_0</td>\n",
       "      <td>Ok. So just the last couple of weeks you've be...</td>\n",
       "    </tr>\n",
       "    <tr>\n",
       "      <th>4</th>\n",
       "      <td>4</td>\n",
       "      <td>00:00:19</td>\n",
       "      <td>00:00:24</td>\n",
       "      <td>spk_1</td>\n",
       "      <td>Yeah. Ever since I, I got back from Mexico. It...</td>\n",
       "    </tr>\n",
       "    <tr>\n",
       "      <th>...</th>\n",
       "      <td>...</td>\n",
       "      <td>...</td>\n",
       "      <td>...</td>\n",
       "      <td>...</td>\n",
       "      <td>...</td>\n",
       "    </tr>\n",
       "    <tr>\n",
       "      <th>152</th>\n",
       "      <td>152</td>\n",
       "      <td>00:11:40</td>\n",
       "      <td>00:11:42</td>\n",
       "      <td>spk_1</td>\n",
       "      <td>Um Nope, that was it?</td>\n",
       "    </tr>\n",
       "    <tr>\n",
       "      <th>153</th>\n",
       "      <td>153</td>\n",
       "      <td>00:11:43</td>\n",
       "      <td>00:12:00</td>\n",
       "      <td>spk_0</td>\n",
       "      <td>Ok. So based on what we talked about it, it se...</td>\n",
       "    </tr>\n",
       "    <tr>\n",
       "      <th>154</th>\n",
       "      <td>154</td>\n",
       "      <td>00:12:00</td>\n",
       "      <td>00:12:21</td>\n",
       "      <td>spk_0</td>\n",
       "      <td>um it can also be like a viral upper respirato...</td>\n",
       "    </tr>\n",
       "    <tr>\n",
       "      <th>155</th>\n",
       "      <td>155</td>\n",
       "      <td>00:12:22</td>\n",
       "      <td>00:12:24</td>\n",
       "      <td>spk_1</td>\n",
       "      <td>That sounds great. Thank you.</td>\n",
       "    </tr>\n",
       "    <tr>\n",
       "      <th>156</th>\n",
       "      <td>156</td>\n",
       "      <td>00:12:24</td>\n",
       "      <td>00:12:26</td>\n",
       "      <td>spk_0</td>\n",
       "      <td>You're welcome. Take care.</td>\n",
       "    </tr>\n",
       "  </tbody>\n",
       "</table>\n",
       "<p>157 rows × 5 columns</p>\n",
       "</div>"
      ],
      "text/plain": [
       "     line start_time  end_time speaker                                            comment\n",
       "0       0   00:00:00  00:00:02   spk_0  So what brings you in here today at the Family...\n",
       "1       1   00:00:03  00:00:11   spk_1  Uh, I've been, been coughing these last, uh, t...\n",
       "2       2   00:00:11  00:00:13   spk_1                          I think I got sick there.\n",
       "3       3   00:00:14  00:00:18   spk_0  Ok. So just the last couple of weeks you've be...\n",
       "4       4   00:00:19  00:00:24   spk_1  Yeah. Ever since I, I got back from Mexico. It...\n",
       "..    ...        ...       ...     ...                                                ...\n",
       "152   152   00:11:40  00:11:42   spk_1                              Um Nope, that was it?\n",
       "153   153   00:11:43  00:12:00   spk_0  Ok. So based on what we talked about it, it se...\n",
       "154   154   00:12:00  00:12:21   spk_0  um it can also be like a viral upper respirato...\n",
       "155   155   00:12:22  00:12:24   spk_1                      That sounds great. Thank you.\n",
       "156   156   00:12:24  00:12:26   spk_0                         You're welcome. Take care.\n",
       "\n",
       "[157 rows x 5 columns]"
      ]
     },
     "execution_count": 62,
     "metadata": {},
     "output_type": "execute_result"
    }
   ],
   "source": [
    "tscribe.write(\"output.json\", format=\"csv\", save_as=\"output.csv\") # write output to CSV file with tscribe\n",
    "\n",
    "desired_width = 600\n",
    "pandas.set_option('display.width', desired_width) # set pandas display width\n",
    "\n",
    "# skip first line and add custom header\n",
    "transcript = pandas.read_csv(\"output.csv\",  names=[\"line\", \"start_time\", \"end_time\", \"speaker\", \"comment\"], header=None, skiprows=1)\n",
    "# create list of strings with interactions (line - speaker - comment)\n",
    "interaction = [\"%s, %s: %s\" % (segment[0], segment[1],segment[2]) for segment in transcript[['line','speaker', 'comment']].values.tolist()]\n",
    "transcript"
   ]
  },
  {
   "cell_type": "code",
   "execution_count": 63,
   "id": "2a501411",
   "metadata": {},
   "outputs": [
    {
     "data": {
      "text/plain": [
       "['0, spk_0: So what brings you in here today at the Family Clinic?',\n",
       " \"1, spk_1: Uh, I've been, been coughing these last, uh, two weeks since I got back from, uh, Mexico.\",\n",
       " '2, spk_1: I think I got sick there.',\n",
       " \"3, spk_0: Ok. So just the last couple of weeks you've been coughing?\",\n",
       " \"4, spk_1: Yeah. Ever since I, I got back from Mexico. It's been, yeah, so about, about two weeks.\",\n",
       " '5, spk_0: Ok. And, uh, is your cough a wet cough or a dry cough?',\n",
       " \"6, spk_1: It's dry? Yeah, I'm not bringing up any, any sputum.\",\n",
       " '7, spk_0: Ok. And are you coughing up any blood at all?',\n",
       " '8, spk_1: No blood?',\n",
       " '9, spk_0: No. Ok.',\n",
       " '10, spk_0: And is the cough, uh, constant or does it come and go?',\n",
       " '11, spk_1: It,',\n",
       " \"12, spk_1: it's, um, it comes and goes, I would say, um, sometimes it can be worse. Um,\",\n",
       " \"13, spk_1: the, yeah, depending on, on, on what I'm, what I'm doing. I guess if I'm exercising or, um,\",\n",
       " \"14, spk_1: if it gets, if it's really cold outside it might, um,\",\n",
       " '15, spk_1: get worse.',\n",
       " '16, spk_0: Ok.',\n",
       " \"17, spk_0: And, um, do you feel that it's been getting worse at all? Your cough?\",\n",
       " '18, spk_1: I, I,',\n",
       " \"19, spk_1: not really, I, I think it's about the same.\",\n",
       " '20, spk_0: Ok. And anything that you did when you were in Mexico that might, you think might have caused your cough.',\n",
       " '21, spk_1: Uh,',\n",
       " \"22, spk_1: I don't know, maybe, um,\",\n",
       " '23, spk_1: IW, I was drinking a little bit too much and, uh, partying a little bit too much. So, uh, might have got sick while I was there.',\n",
       " '24, spk_0: I see. Did you have any cold symptoms, uh, like runny nose, sore throat?',\n",
       " '25, spk_0: Um, any, anything like that when you were there or after you came back?',\n",
       " '26, spk_1: No, sometimes my eyes can get a little itchy but, um,',\n",
       " '27, spk_1: no runny nose or, or sore throat.',\n",
       " \"28, spk_0: Ok. Have you had any previous episodes that are similar to how you're feeling now,\",\n",
       " '29, spk_1: uh, maybe years ago when I, like when I was in elementary school. But, um,',\n",
       " '30, spk_1: nothing for the last few years.',\n",
       " \"31, spk_0: Ok. And how often are you coughing, let's say, in an average day.\",\n",
       " '32, spk_1: Um,',\n",
       " \"33, spk_1: it's, uh,\",\n",
       " \"34, spk_1: it's pretty variable. Um, I would say, um,\",\n",
       " \"35, spk_1: so if I'm exercising it, it'll, it'll throw me into a coughing fit and, and sometimes it's really bugging me at night too. It'll, it'll, it affect me, um, and it's impairing my sleep.\",\n",
       " '36, spk_0: Ok. And, uh, so exercise makes it worse. Anything that you do that helps you relieve the cough.',\n",
       " '37, spk_1: Um,',\n",
       " \"38, spk_1: I actually, yeah, I, I tried, um, my, uh, son's in, um, inhaler and it, it seemed to actually help but one of the days I, I just couldn't seem to stop the cough and I wanted to sleep. So I, I gave it a try and it, it seemed to actually help um, uh, with the cough?\",\n",
       " '39, spk_0: Ok. And so your son, uh, has inhalers? Do, does he have asthma?',\n",
       " '40, spk_1: Yeah, he does. Yeah, he was diagnosed with asthma, uh, a couple of years ago.',\n",
       " '41, spk_0: Ok. And have you previously been diagnosed with asthma?',\n",
       " '42, spk_1: Uh,',\n",
       " \"43, spk_1: I think if they've said it before when I was young, but, um, I haven't had any symptoms for, for, for\",\n",
       " '44, spk_1: years.',\n",
       " '45, spk_0: Ok.',\n",
       " '46, spk_0: And besides the cough, uh, do you have any other symptoms, uh, like any cold symptoms, like runny nose, sore throat right now or even like any chest pain?',\n",
       " '47, spk_1: Uh, no, nothing like that?',\n",
       " '48, spk_0: Ok.',\n",
       " '49, spk_0: And, um, do you have any symptoms, like a headache or nausea or vomiting?',\n",
       " '50, spk_1: Uh, no, no headache, nausea or vomiting?',\n",
       " '51, spk_0: Ok. Is your cough, uh, at all worse during the day or at night or does it just, is it around the same throughout the day?',\n",
       " '52, spk_1: Uh, I, I think the cough is worse at night.',\n",
       " '53, spk_0: Ok.',\n",
       " \"54, spk_0: And do you ever feel that you're short of breath at all?\",\n",
       " \"55, spk_1: Uh, uh, well, yeah. So it affects me if I'm outside. And, um,\",\n",
       " \"56, spk_1: that, that's actually usually when my eyes will get itchy too.\",\n",
       " '57, spk_0: Ok.',\n",
       " '58, spk_0: And have you, uh, had any,',\n",
       " '59, spk_0: uh, eczema in the past?',\n",
       " '60, spk_1: Uh, yeah, I had, I had eczema when I was, um,',\n",
       " '61, spk_1: younger. I, I think I was in, when I was in elementary school as well.',\n",
       " '62, spk_0: Ok.',\n",
       " '63, spk_0: Have you had any fevers or chills recently?',\n",
       " '64, spk_1: No,',\n",
       " '65, spk_0: any night sweats?',\n",
       " '66, spk_1: No.',\n",
       " '67, spk_0: Have you been feeling increasingly tired throughout the day.',\n",
       " \"68, spk_1: Uh, no, my energy's been, been good. I just, um,\",\n",
       " '69, spk_1: uh, get short of breath or, or have these coughing fits if I, if I exert myself.',\n",
       " '70, spk_0: Ok. Have you noticed any swelling in your feet or hands?',\n",
       " '71, spk_1: No?',\n",
       " '72, spk_0: Ok. Any dizziness,',\n",
       " '73, spk_1: no dizziness?',\n",
       " '74, spk_0: Ok. Do you ever feel your heart is racing? Do you get like these thumping, like heart palpitations?',\n",
       " '75, spk_1: Uh, nothing like that?',\n",
       " '76, spk_0: Ok. And you said no chest pain,',\n",
       " '77, spk_1: right? No chest pain.',\n",
       " '78, spk_0: Ok. Uh, have you noticed any changes in your bowel movements? Any constipation or diarrhea?',\n",
       " '79, spk_1: No diarrhea?',\n",
       " '80, spk_0: Ok. Uh, any changes in your urinary, uh, patterns?',\n",
       " \"81, spk_1: No, everything's been normal.\",\n",
       " \"82, spk_0: Ok. So you mentioned like the cough's been keeping you up at night. Um, how, how often are you waking up at night? Is it pretty frequent?\",\n",
       " \"83, spk_1: Uh, I would say what, two or three nights a week, um, over these last two weeks it's been, uh, it's been\",\n",
       " '84, spk_1: bit worse.',\n",
       " '85, spk_0: Ok. And have you noticed any changes in your weight at all?',\n",
       " \"86, spk_1: My weight's been about the same.\",\n",
       " '87, spk_0: Ok. Any changes in your appetite?',\n",
       " '88, spk_1: No, been eating well.',\n",
       " '89, spk_0: Ok.',\n",
       " '90, spk_0: Any recent, uh, exposures, uh, to anyone with tuberculosis that you know of?',\n",
       " '91, spk_1: No,',\n",
       " '92, spk_0: no. Ok. Uh, have you lost, uh, your sense of taste or smell recently?',\n",
       " '93, spk_0: Neither of those? Ok.',\n",
       " '94, spk_0: And, uh, have you been exposed to any fumes or dust in your surrounding, uh, area or, uh, do you have any pets or animals? At home.',\n",
       " '95, spk_1: Um, yeah, we have a, uh, two cats. Um, and, uh, but nothing at work.',\n",
       " '96, spk_0: Ok. And how long have you had those cats for?',\n",
       " \"97, spk_1: Um, we've had them for, for almost a year.\",\n",
       " '98, spk_0: Ok.',\n",
       " \"99, spk_0: And, uh, other than eczema and, uh, remote history of perhaps asthma when you were younger, um, any other medical conditions like diabetes or high blood pressure that you've been diagnosed with?\",\n",
       " \"100, spk_1: No, I've been healthy that way.\",\n",
       " \"101, spk_0: Ok. Any, uh, medications that you're on currently?\",\n",
       " '102, spk_1: Uh, no medications?',\n",
       " '103, spk_0: Ok. Do you know of any allergies to any, any environmental exposures or any medications at all?',\n",
       " '104, spk_1: Um,',\n",
       " \"105, spk_1: yeah, I think I have, I'm allergic to pollen. Um,\",\n",
       " '106, spk_1: and, and some other envi environmental, uh, um, allergies as well.',\n",
       " '107, spk_0: Ok. And when you cough, have you ever noticed, like, wheezing noises at all?',\n",
       " '108, spk_1: I occasionally, yeah, there though. I, I do notice a wheeze.',\n",
       " '109, spk_0: Ok.',\n",
       " '110, spk_0: And,',\n",
       " '111, spk_0: uh, have you ever been hospitalized before?',\n",
       " \"112, spk_1: No, I haven't.\",\n",
       " '113, spk_0: Ok. Any previous surgeries?',\n",
       " '114, spk_1: Uh, no surgeries?',\n",
       " '115, spk_0: Ok. And has anyone around you been ill recently?',\n",
       " \"116, spk_1: Everybody's been healthy?\",\n",
       " '117, spk_0: Ok.',\n",
       " '118, spk_0: And do you have any family history of, uh, any cancers or anything related to the lungs at all?',\n",
       " '119, spk_1: Uh, no, I mean, my sister had e eczema, um, as well. Uh, but, um,',\n",
       " \"120, spk_1: that's it.\",\n",
       " \"121, spk_0: Ok. That's ok. Uh, any heart attacks in your family, any other medical conditions?\",\n",
       " \"122, spk_1: Uh, no, no, everyone's healthy.\",\n",
       " '123, spk_0: Ok. And currently, uh, w what is your living, uh, situation like,',\n",
       " '124, spk_1: uh, Yeah. So, uh, I live in an apartment, um, nearby with my boyfriend.',\n",
       " '125, spk_0: Ok. And, uh,',\n",
       " '126, spk_0: have you, has there been any, uh, have you moved there recently or? Have you, how long have you lived there for?',\n",
       " \"127, spk_1: Uh, we've lived there for about four years now.\",\n",
       " '128, spk_0: Four years. Ok. And, uh, has anything changed recently? Has there been any mold or new carpets that you guys got anything new in the house?',\n",
       " '129, spk_1: Um,',\n",
       " \"130, spk_1: I don't, I don't think so.\",\n",
       " '131, spk_0: Ok.',\n",
       " '132, spk_0: And do you currently work?',\n",
       " '133, spk_1: Yeah, I work as a, uh, a school teacher.',\n",
       " '134, spk_0: Ok.',\n",
       " '135, spk_0: And, uh, uh, do you smoke at all?',\n",
       " \"136, spk_1: Uh, no, I don't.\",\n",
       " '137, spk_0: Ok. Have you ever smoked?',\n",
       " \"138, spk_1: Uh, I did, yeah, I, I smoked a pack a day, um, up until I just about a, um, a month ago I made it, it was a New Year's resolution to quit.\",\n",
       " \"139, spk_0: Oh, wow. Well, congratulations. That's, it's definitely very difficult, uh, to quit. And if you need, uh, at all, any, uh, help at all with, um, your transition at all, we can always bring it up in any appointment.\",\n",
       " '140, spk_0: Ok. Thank you.',\n",
       " '141, spk_0: Yeah. And in terms of, uh, recreational drugs, do you use, uh, marijuana or cocaine or any other recreational drugs?',\n",
       " \"142, spk_1: Um, yeah, maybe I'll, I'll smoke like, one or two joints a week.\",\n",
       " '143, spk_0: Ok.',\n",
       " '144, spk_0: And, uh, do you drink alcohol?',\n",
       " '145, spk_1: Uh, yeah, maybe a bottle of wine on the weekends?',\n",
       " '146, spk_0: Ok. Um, so you go through, like, around a bottle every week',\n",
       " \"147, spk_1: yeah, I would say about a, a bottle of wine on, on throughout the week, but usually don't really have any during the week or, or usually, I guess, split the bottle between, uh, between Friday to Sunday sort of thing. Ok.\",\n",
       " \"148, spk_0: And, uh, in terms of, uh, exercise, uh, do you find that, uh, you're getting adequate exercise throughout the week?\",\n",
       " '149, spk_1: I tried to, I tried to run and go for walks. Um, but, uh always trying to be a little bit more active.',\n",
       " '150, spk_0: Ok.',\n",
       " '151, spk_0: Right. So, yeah, those are all the questions I had for you today. Um Do you have any other questions for me?',\n",
       " '152, spk_1: Um Nope, that was it?',\n",
       " \"153, spk_0: Ok. So based on what we talked about it, it seems that uh based on your past history and uh the coughing that you're having right now, one of the things that we definitely want to look at is uh if, if you do, in fact have asthma,\",\n",
       " '154, spk_0: um it can also be like a viral upper respiratory tract infection, but we will do some uh pulmonary function tests for you and see if uh the bronchodilator is just like you use the inhaler from your son if that helps um helps you with your symptoms and then we can go from there.',\n",
       " '155, spk_1: That sounds great. Thank you.',\n",
       " \"156, spk_0: You're welcome. Take care.\"]"
      ]
     },
     "execution_count": 63,
     "metadata": {},
     "output_type": "execute_result"
    }
   ],
   "source": [
    "interaction"
   ]
  },
  {
   "cell_type": "markdown",
   "id": "03593de0-fbbb-41fc-b096-944f47ca0d42",
   "metadata": {
    "tags": []
   },
   "source": [
    "---"
   ]
  },
  {
   "cell_type": "markdown",
   "id": "f95a9371fcedbb55",
   "metadata": {},
   "source": [
    "## 2. Generate clinical notes using Claude model family"
   ]
  },
  {
   "cell_type": "markdown",
   "id": "828ded26-f3d7-422a-9f91-3128ef7a59ec",
   "metadata": {},
   "source": [
    "### 2.1. Prompt engineering\n",
    "Claude is trained to be a helpful, honest, and harmless assistant. It is used to speaking in dialogue, and you can instruct it in regular natural language requests as if you were making requests of a human.The quality of the instructions you give Claude can have a large effect on the quality of its outputs, especially for complex tasks. See https://docs.anthropic.com/claude/docs/intro-to-prompting to learn more about prompt engineering.\n",
    "\n",
    "Structured enterprise-grade prompts may contain the following sections: \n",
    "1. **Task context**\n",
    "1. Tone context\n",
    "1. Background data, documents, and images\n",
    "1. **Detailed task description & rules**\n",
    "1. Examples\n",
    "1. Conversation history\n",
    "1. Immediate task description or request\n",
    "1. Thinking step by step / take a deep breath\n",
    "\n",
    "In our scenario, we will use a simplified prompt (template) that will instruct the model to generate a structured summary of the transcribed conversation and indicate the lines in the transcript that support each claim. This summary is divided in the following sections: \n",
    "\n",
    "1. Chief complaint\n",
    "1. History of present illness\n",
    "1. Review of systems\n",
    "1. Past medical history\n",
    "1. Assessment\n",
    "1. Plan\n",
    "1. Physical examination"
   ]
  },
  {
   "cell_type": "code",
   "execution_count": 64,
   "id": "ffdb7fd52731c25d",
   "metadata": {
    "ExecuteTime": {
     "end_time": "2024-03-19T12:33:08.990046Z",
     "start_time": "2024-03-19T12:33:08.986414Z"
    },
    "jupyter": {
     "source_hidden": true
    },
    "scrolled": true,
    "tags": []
   },
   "outputs": [
    {
     "name": "stdout",
     "output_type": "stream",
     "text": [
      "You will be reading a transcript of a recorded conversation between a physician and a patient. You will find the conversation within the transcript XML tags. Your goal is to summarise \n",
      "it, capture the most significative insights and propose the appropriate action plan under a section named ‘clinical plan’ that includes the following sections: Chief complaint; History of present \n",
      "illness; Review of systems; Past medical history; Assessment; Plan; Physical examination. Per each claim you make, you need to indicate which lines of the transcript supports it (please indicate \n",
      "only the line numbers within the tag <line></line>).\n",
      "<transcript>\n",
      "0, spk_0: So what brings you in here today at the Family Clinic?\n",
      "1, spk_1: Uh, I've been, been coughing these last, uh, two weeks since I got back from, uh, Mexico.\n",
      "2, spk_1: I think I got sick there.\n",
      "3, spk_0: Ok. So just the last couple of weeks you've been coughing?\n",
      "4, spk_1: Yeah. Ever since I, I got back from Mexico. It's been, yeah, so about, about two weeks.\n",
      "5, spk_0: Ok. And, uh, is your cough a wet cough or a dry cough?\n",
      "6, spk_1: It's dry? Yeah, I'm not bringing up any, any sputum.\n",
      "7, spk_0: Ok. And are you coughing up any blood at all?\n",
      "8, spk_1: No blood?\n",
      "9, spk_0: No. Ok.\n",
      "10, spk_0: And is the cough, uh, constant or does it come and go?\n",
      "11, spk_1: It,\n",
      "12, spk_1: it's, um, it comes and goes, I would say, um, sometimes it can be worse. Um,\n",
      "13, spk_1: the, yeah, depending on, on, on what I'm, what I'm doing. I guess if I'm exercising or, um,\n",
      "14, spk_1: if it gets, if it's really cold outside it might, um,\n",
      "15, spk_1: get worse.\n",
      "16, spk_0: Ok.\n",
      "17, spk_0: And, um, do you feel that it's been getting worse at all? Your cough?\n",
      "18, spk_1: I, I,\n",
      "19, spk_1: not really, I, I think it's about the same.\n",
      "20, spk_0: Ok. And anything that you did when you were in Mexico that might, you think might have caused your cough.\n",
      "21, spk_1: Uh,\n",
      "22, spk_1: I don't know, maybe, um,\n",
      "23, spk_1: IW, I was drinking a little bit too much and, uh, partying a little bit too much. So, uh, might have got sick while I was there.\n",
      "24, spk_0: I see. Did you have any cold symptoms, uh, like runny nose, sore throat?\n",
      "25, spk_0: Um, any, anything like that when you were there or after you came back?\n",
      "26, spk_1: No, sometimes my eyes can get a little itchy but, um,\n",
      "27, spk_1: no runny nose or, or sore throat.\n",
      "28, spk_0: Ok. Have you had any previous episodes that are similar to how you're feeling now,\n",
      "29, spk_1: uh, maybe years ago when I, like when I was in elementary school. But, um,\n",
      "30, spk_1: nothing for the last few years.\n",
      "31, spk_0: Ok. And how often are you coughing, let's say, in an average day.\n",
      "32, spk_1: Um,\n",
      "33, spk_1: it's, uh,\n",
      "34, spk_1: it's pretty variable. Um, I would say, um,\n",
      "35, spk_1: so if I'm exercising it, it'll, it'll throw me into a coughing fit and, and sometimes it's really bugging me at night too. It'll, it'll, it affect me, um, and it's impairing my sleep.\n",
      "36, spk_0: Ok. And, uh, so exercise makes it worse. Anything that you do that helps you relieve the cough.\n",
      "37, spk_1: Um,\n",
      "38, spk_1: I actually, yeah, I, I tried, um, my, uh, son's in, um, inhaler and it, it seemed to actually help but one of the days I, I just couldn't seem to stop the cough and I wanted to sleep. So I, I gave it a try and it, it seemed to actually help um, uh, with the cough?\n",
      "39, spk_0: Ok. And so your son, uh, has inhalers? Do, does he have asthma?\n",
      "40, spk_1: Yeah, he does. Yeah, he was diagnosed with asthma, uh, a couple of years ago.\n",
      "41, spk_0: Ok. And have you previously been diagnosed with asthma?\n",
      "42, spk_1: Uh,\n",
      "43, spk_1: I think if they've said it before when I was young, but, um, I haven't had any symptoms for, for, for\n",
      "44, spk_1: years.\n",
      "45, spk_0: Ok.\n",
      "46, spk_0: And besides the cough, uh, do you have any other symptoms, uh, like any cold symptoms, like runny nose, sore throat right now or even like any chest pain?\n",
      "47, spk_1: Uh, no, nothing like that?\n",
      "48, spk_0: Ok.\n",
      "49, spk_0: And, um, do you have any symptoms, like a headache or nausea or vomiting?\n",
      "50, spk_1: Uh, no, no headache, nausea or vomiting?\n",
      "51, spk_0: Ok. Is your cough, uh, at all worse during the day or at night or does it just, is it around the same throughout the day?\n",
      "52, spk_1: Uh, I, I think the cough is worse at night.\n",
      "53, spk_0: Ok.\n",
      "54, spk_0: And do you ever feel that you're short of breath at all?\n",
      "55, spk_1: Uh, uh, well, yeah. So it affects me if I'm outside. And, um,\n",
      "56, spk_1: that, that's actually usually when my eyes will get itchy too.\n",
      "57, spk_0: Ok.\n",
      "58, spk_0: And have you, uh, had any,\n",
      "59, spk_0: uh, eczema in the past?\n",
      "60, spk_1: Uh, yeah, I had, I had eczema when I was, um,\n",
      "61, spk_1: younger. I, I think I was in, when I was in elementary school as well.\n",
      "62, spk_0: Ok.\n",
      "63, spk_0: Have you had any fevers or chills recently?\n",
      "64, spk_1: No,\n",
      "65, spk_0: any night sweats?\n",
      "66, spk_1: No.\n",
      "67, spk_0: Have you been feeling increasingly tired throughout the day.\n",
      "68, spk_1: Uh, no, my energy's been, been good. I just, um,\n",
      "69, spk_1: uh, get short of breath or, or have these coughing fits if I, if I exert myself.\n",
      "70, spk_0: Ok. Have you noticed any swelling in your feet or hands?\n",
      "71, spk_1: No?\n",
      "72, spk_0: Ok. Any dizziness,\n",
      "73, spk_1: no dizziness?\n",
      "74, spk_0: Ok. Do you ever feel your heart is racing? Do you get like these thumping, like heart palpitations?\n",
      "75, spk_1: Uh, nothing like that?\n",
      "76, spk_0: Ok. And you said no chest pain,\n",
      "77, spk_1: right? No chest pain.\n",
      "78, spk_0: Ok. Uh, have you noticed any changes in your bowel movements? Any constipation or diarrhea?\n",
      "79, spk_1: No diarrhea?\n",
      "80, spk_0: Ok. Uh, any changes in your urinary, uh, patterns?\n",
      "81, spk_1: No, everything's been normal.\n",
      "82, spk_0: Ok. So you mentioned like the cough's been keeping you up at night. Um, how, how often are you waking up at night? Is it pretty frequent?\n",
      "83, spk_1: Uh, I would say what, two or three nights a week, um, over these last two weeks it's been, uh, it's been\n",
      "84, spk_1: bit worse.\n",
      "85, spk_0: Ok. And have you noticed any changes in your weight at all?\n",
      "86, spk_1: My weight's been about the same.\n",
      "87, spk_0: Ok. Any changes in your appetite?\n",
      "88, spk_1: No, been eating well.\n",
      "89, spk_0: Ok.\n",
      "90, spk_0: Any recent, uh, exposures, uh, to anyone with tuberculosis that you know of?\n",
      "91, spk_1: No,\n",
      "92, spk_0: no. Ok. Uh, have you lost, uh, your sense of taste or smell recently?\n",
      "93, spk_0: Neither of those? Ok.\n",
      "94, spk_0: And, uh, have you been exposed to any fumes or dust in your surrounding, uh, area or, uh, do you have any pets or animals? At home.\n",
      "95, spk_1: Um, yeah, we have a, uh, two cats. Um, and, uh, but nothing at work.\n",
      "96, spk_0: Ok. And how long have you had those cats for?\n",
      "97, spk_1: Um, we've had them for, for almost a year.\n",
      "98, spk_0: Ok.\n",
      "99, spk_0: And, uh, other than eczema and, uh, remote history of perhaps asthma when you were younger, um, any other medical conditions like diabetes or high blood pressure that you've been diagnosed with?\n",
      "100, spk_1: No, I've been healthy that way.\n",
      "101, spk_0: Ok. Any, uh, medications that you're on currently?\n",
      "102, spk_1: Uh, no medications?\n",
      "103, spk_0: Ok. Do you know of any allergies to any, any environmental exposures or any medications at all?\n",
      "104, spk_1: Um,\n",
      "105, spk_1: yeah, I think I have, I'm allergic to pollen. Um,\n",
      "106, spk_1: and, and some other envi environmental, uh, um, allergies as well.\n",
      "107, spk_0: Ok. And when you cough, have you ever noticed, like, wheezing noises at all?\n",
      "108, spk_1: I occasionally, yeah, there though. I, I do notice a wheeze.\n",
      "109, spk_0: Ok.\n",
      "110, spk_0: And,\n",
      "111, spk_0: uh, have you ever been hospitalized before?\n",
      "112, spk_1: No, I haven't.\n",
      "113, spk_0: Ok. Any previous surgeries?\n",
      "114, spk_1: Uh, no surgeries?\n",
      "115, spk_0: Ok. And has anyone around you been ill recently?\n",
      "116, spk_1: Everybody's been healthy?\n",
      "117, spk_0: Ok.\n",
      "118, spk_0: And do you have any family history of, uh, any cancers or anything related to the lungs at all?\n",
      "119, spk_1: Uh, no, I mean, my sister had e eczema, um, as well. Uh, but, um,\n",
      "120, spk_1: that's it.\n",
      "121, spk_0: Ok. That's ok. Uh, any heart attacks in your family, any other medical conditions?\n",
      "122, spk_1: Uh, no, no, everyone's healthy.\n",
      "123, spk_0: Ok. And currently, uh, w what is your living, uh, situation like,\n",
      "124, spk_1: uh, Yeah. So, uh, I live in an apartment, um, nearby with my boyfriend.\n",
      "125, spk_0: Ok. And, uh,\n",
      "126, spk_0: have you, has there been any, uh, have you moved there recently or? Have you, how long have you lived there for?\n",
      "127, spk_1: Uh, we've lived there for about four years now.\n",
      "128, spk_0: Four years. Ok. And, uh, has anything changed recently? Has there been any mold or new carpets that you guys got anything new in the house?\n",
      "129, spk_1: Um,\n",
      "130, spk_1: I don't, I don't think so.\n",
      "131, spk_0: Ok.\n",
      "132, spk_0: And do you currently work?\n",
      "133, spk_1: Yeah, I work as a, uh, a school teacher.\n",
      "134, spk_0: Ok.\n",
      "135, spk_0: And, uh, uh, do you smoke at all?\n",
      "136, spk_1: Uh, no, I don't.\n",
      "137, spk_0: Ok. Have you ever smoked?\n",
      "138, spk_1: Uh, I did, yeah, I, I smoked a pack a day, um, up until I just about a, um, a month ago I made it, it was a New Year's resolution to quit.\n",
      "139, spk_0: Oh, wow. Well, congratulations. That's, it's definitely very difficult, uh, to quit. And if you need, uh, at all, any, uh, help at all with, um, your transition at all, we can always bring it up in any appointment.\n",
      "140, spk_0: Ok. Thank you.\n",
      "141, spk_0: Yeah. And in terms of, uh, recreational drugs, do you use, uh, marijuana or cocaine or any other recreational drugs?\n",
      "142, spk_1: Um, yeah, maybe I'll, I'll smoke like, one or two joints a week.\n",
      "143, spk_0: Ok.\n",
      "144, spk_0: And, uh, do you drink alcohol?\n",
      "145, spk_1: Uh, yeah, maybe a bottle of wine on the weekends?\n",
      "146, spk_0: Ok. Um, so you go through, like, around a bottle every week\n",
      "147, spk_1: yeah, I would say about a, a bottle of wine on, on throughout the week, but usually don't really have any during the week or, or usually, I guess, split the bottle between, uh, between Friday to Sunday sort of thing. Ok.\n",
      "148, spk_0: And, uh, in terms of, uh, exercise, uh, do you find that, uh, you're getting adequate exercise throughout the week?\n",
      "149, spk_1: I tried to, I tried to run and go for walks. Um, but, uh always trying to be a little bit more active.\n",
      "150, spk_0: Ok.\n",
      "151, spk_0: Right. So, yeah, those are all the questions I had for you today. Um Do you have any other questions for me?\n",
      "152, spk_1: Um Nope, that was it?\n",
      "153, spk_0: Ok. So based on what we talked about it, it seems that uh based on your past history and uh the coughing that you're having right now, one of the things that we definitely want to look at is uh if, if you do, in fact have asthma,\n",
      "154, spk_0: um it can also be like a viral upper respiratory tract infection, but we will do some uh pulmonary function tests for you and see if uh the bronchodilator is just like you use the inhaler from your son if that helps um helps you with your symptoms and then we can go from there.\n",
      "155, spk_1: That sounds great. Thank you.\n",
      "156, spk_0: You're welcome. Take care.\n",
      "</transcript>\n",
      "\n"
     ]
    }
   ],
   "source": [
    "prompt = '''You will be reading a transcript of a recorded conversation between a physician and a patient. You will find the conversation within the transcript XML tags. Your goal is to summarise \n",
    "it, capture the most significative insights and propose the appropriate action plan under a section named ‘clinical plan’ that includes the following sections: Chief complaint; History of present \n",
    "illness; Review of systems; Past medical history; Assessment; Plan; Physical examination. Per each claim you make, you need to indicate which lines of the transcript supports it (please indicate \n",
    "only the line numbers within the tag <line></line>).\n",
    "<transcript>\n",
    "%s\n",
    "</transcript>\n",
    "''' % \"\\n\".join(interaction)\n",
    "print(prompt)"
   ]
  },
  {
   "cell_type": "markdown",
   "id": "41dadf56-58a2-41d0-8807-42a993fd1a39",
   "metadata": {},
   "source": [
    "### 2.2. Payload preparation and model invocation\n",
    "The new generation of Claude model only support the Messages API, hence we must format the body of our payload in the following way:"
   ]
  },
  {
   "cell_type": "code",
   "execution_count": 65,
   "id": "986e3ac841095dac",
   "metadata": {
    "tags": []
   },
   "outputs": [],
   "source": [
    "accept = 'application/json'\n",
    "contentType = 'application/json'\n",
    "body = json.dumps(\n",
    "    {\n",
    "        \"anthropic_version\": \"bedrock-2023-05-31\",\n",
    "        \"max_tokens\": 1000,\n",
    "        \"messages\": [\n",
    "            {\n",
    "                \"role\": \"user\",\n",
    "                \"content\": [{\n",
    "                    \"type\": \"text\",\n",
    "                    \"text\": prompt,\n",
    "                }],\n",
    "            },\n",
    "        ],\n",
    "        \"temperature\": 0\n",
    "    }\n",
    ")"
   ]
  },
  {
   "cell_type": "code",
   "execution_count": 69,
   "id": "723afad4",
   "metadata": {},
   "outputs": [],
   "source": [
    "region = \"us-west-2\" # !!! define a region where the models are activated within Amazon Bedrock\n",
    "bedrock_runtime = boto3.client('bedrock-runtime', region)"
   ]
  },
  {
   "cell_type": "markdown",
   "id": "c9228475-c22b-45cb-9d7e-21ba990d0fa8",
   "metadata": {},
   "source": [
    "#### 2.2.1 Claude 3 Sonnet"
   ]
  },
  {
   "cell_type": "markdown",
   "id": "0ca3e35a-68a4-404a-8b0a-a4cb738b0e04",
   "metadata": {
    "ExecuteTime": {
     "start_time": "2024-03-19T12:54:19.663698Z"
    }
   },
   "source": [
    "The Bedrock service generates the entire summary for the given prompt in a single output, this can be slow if the output contains large amount of tokens.\n",
    "\n",
    "Below we explore the option how we can use Bedrock to stream the output such that the user could start consuming it as it is being generated by the model. For this Bedrock supports invoke_model_with_response_stream API providing ResponseStream that streams the output in form of chunks.\n",
    "\n",
    "Instead of generating the entire output, Bedrock sends smaller chunks from the model. This can be displayed in a consumable manner as well.\n"
   ]
  },
  {
   "cell_type": "code",
   "execution_count": 70,
   "id": "d7a111e9d9f1217a",
   "metadata": {
    "ExecuteTime": {
     "start_time": "2024-03-19T12:54:19.663698Z"
    },
    "tags": []
   },
   "outputs": [],
   "source": [
    "def teletype_model_response(stream):\n",
    "    output = []\n",
    "    i = 1\n",
    "    if stream:\n",
    "        for event in stream:\n",
    "            chunk = event.get('chunk')\n",
    "            if chunk:\n",
    "                chunk_obj = json.loads(chunk.get('bytes').decode())\n",
    "                if chunk_obj['type'] == 'content_block_delta':\n",
    "                    text = chunk_obj['delta']['text']\n",
    "                    clear_output(wait=True)\n",
    "                    output.append(text)\n",
    "                    display_markdown(Markdown(''.join(output)))\n",
    "                    i += 1"
   ]
  },
  {
   "cell_type": "markdown",
   "id": "76374ea2-e418-4053-b138-727fa220b0ac",
   "metadata": {},
   "source": [
    "We will print the content of the response immediately as the first string is returned "
   ]
  },
  {
   "cell_type": "code",
   "execution_count": 71,
   "id": "2b37a6a3d7afdccf",
   "metadata": {
    "tags": []
   },
   "outputs": [
    {
     "data": {
      "text/markdown": [
       "Clinical Plan:\n",
       "\n",
       "Chief Complaint:\n",
       "- Persistent dry cough for the past two weeks since returning from Mexico (<line>1</line>, <line>4</line>)\n",
       "\n",
       "History of Present Illness:\n",
       "- Dry cough without sputum production (<line>6</line>)\n",
       "- No coughing up blood (<line>8</line>)\n",
       "- Cough comes and goes, worsens with exercise, cold weather, and at night (<line>12</line>, <line>13</line>, <line>14</line>, <line>35</line>, <line>52</line>)\n",
       "- Cough has not been getting worse (<line>19</line>)\n",
       "- Possible triggers: excessive alcohol consumption and partying in Mexico (<line>23</line>)\n",
       "- No cold symptoms like runny nose or sore throat (<line>27</line>)\n",
       "- Coughing fits impair sleep (<line>35</line>)\n",
       "- Cough relieved by using son's inhaler (<line>38</line>)\n",
       "\n",
       "Review of Systems:\n",
       "- No headache, nausea, or vomiting (<line>50</line>)\n",
       "- Occasional shortness of breath, especially with exertion and when outside (<line>55</line>, <line>69</line>)\n",
       "- Itchy eyes when outside (<line>56</line>)\n",
       "- No fevers, chills, or night sweats (<line>64</line>, <line>66</line>)\n",
       "- No swelling in feet or hands (<line>71</line>)\n",
       "- No dizziness or heart palpitations (<line>73</line>, <line>75</line>)\n",
       "- No chest pain (<line>77</line>)\n",
       "- No changes in bowel movements or urinary patterns (<line>79</line>, <line>81</line>)\n",
       "- No weight changes or changes in appetite (<line>86</line>, <line>88</line>)\n",
       "- No known exposure to tuberculosis (<line>91</line>)\n",
       "- No loss of taste or smell (<line>93</line>)\n",
       "- Exposure to cats at home (<line>95</line>)\n",
       "\n",
       "Past Medical History:\n",
       "- History of eczema in childhood (<line>60</line>, <line>61</line>)\n",
       "- Possible remote history of asthma in childhood (<line>43</line>, <line>44</line>)\n",
       "- No other medical conditions like diabetes or high blood pressure (<line>100</line>)\n",
       "- No current medications (<line>102</line>)\n",
       "- Allergies to pollen and environmental allergens (<line>105</line>, <line>106</line>)\n",
       "- Occasional wheezing noticed (<line>108</line>)\n",
       "- No previous hospitalizations (<line>112</line>)\n",
       "- No previous surgeries (<line>114</line>)\n",
       "- Family history of eczema in sister (<line>119</line>)\n",
       "- No family history of cancers or lung-related conditions (<line>120</line>)\n",
       "\n",
       "Assessment:\n",
       "Based on the history and symptoms, the patient's persistent dry cough, worsening with exercise and at night, relief with bronchodilator use, and past history of possible asthma and environmental allergies, suggest a potential diagnosis of asthma or reactive airway disease exacerbated by environmental triggers.\n",
       "\n",
       "Plan:\n",
       "- Order pulmonary function tests to evaluate for asthma or reactive airway disease\n",
       "- Trial of bronchodilator therapy (inhaler) to assess response and symptom relief\n",
       "- Consider allergy testing to identify potential environmental triggers\n",
       "- Provide education on asthma management and avoidance of triggers\n",
       "- Follow-up to monitor response to treatment and adjust management as needed\n",
       "\n",
       "Physical Examination:\n",
       "The transcript does not provide details about the physical examination findings. However, a thorough respiratory examination, including auscultation of the lungs for wheezing or other abnormal breath sounds, would be essential in evaluating this patient's condition."
      ]
     },
     "metadata": {},
     "output_type": "display_data"
    },
    {
     "name": "stdout",
     "output_type": "stream",
     "text": [
      "CPU times: user 1.75 s, sys: 363 ms, total: 2.12 s\n",
      "Wall time: 16.2 s\n"
     ]
    }
   ],
   "source": [
    "%%time # print CPU and Wall times for the whole cell\n",
    "modelId = 'anthropic.claude-3-sonnet-20240229-v1:0'\n",
    "\n",
    "# Uncomment to get response after it has been fully generated\n",
    "# response = bedrock_runtime.invoke_model(body=body, modelId=modelId, accept=accept, contentType=contentType)\n",
    "# response_body = json.loads(response[\"body\"].read())\n",
    "# completion = response_body[\"content\"][0][\"text\"]\n",
    "# print(completion)\n",
    "\n",
    "# get response in chunks\n",
    "response = bedrock_runtime.invoke_model_with_response_stream(body=body, modelId=modelId, accept=accept, contentType=contentType)\n",
    "teletype_model_response(response.get('body'))\n"
   ]
  },
  {
   "cell_type": "markdown",
   "id": "8deb0018-f7ec-4b67-a2f9-fc9ad1d48780",
   "metadata": {},
   "source": [
    "#### 2.2.2. Claude 3 Haiku"
   ]
  },
  {
   "cell_type": "markdown",
   "id": "e251900b-f6a0-403b-bf22-b6d27acdc7aa",
   "metadata": {},
   "source": [
    "Let's print the response only when it is returned in full using Claude 3 Haiku. The CPU and Wall times should be significanlty lower as Claude 3 Haiku is quicker and more advanced than Claude 3 Sonnet. "
   ]
  },
  {
   "cell_type": "code",
   "execution_count": 72,
   "id": "9bc53bcb812efaf6",
   "metadata": {
    "ExecuteTime": {
     "end_time": "2024-03-19T12:34:52.313385Z",
     "start_time": "2024-03-19T12:34:42.295628Z"
    },
    "tags": []
   },
   "outputs": [
    {
     "data": {
      "text/markdown": [
       "Clinical Plan:\n",
       "\n",
       "Chief Complaint: Persistent dry cough for the past 2 weeks since returning from Mexico.\n",
       "\n",
       "History of Present Illness:\n",
       "- The patient has been experiencing a dry cough for the past 2 weeks since returning from a trip to Mexico (<line>1</line>, <line>2</line>, <line>4</line>).\n",
       "- The cough is dry and the patient is not producing any sputum (<line>6</line>).\n",
       "- The cough is intermittent, with it being worse during exercise or in cold weather (<line>13</line>, <line>14</line>, <line>15</line>).\n",
       "- The cough has been affecting the patient's sleep, waking them up 2-3 times per week (<line>83</line>, <line>84</line>).\n",
       "- The patient tried using their son's asthma inhaler, which seemed to help with the cough (<line>38</line>).\n",
       "- The patient has a history of eczema in the past (<line>60</line>, <line>61</line>) and a remote history of possible asthma in childhood (<line>29</line>, <line>41</line>, <line>43</line>, <line>44</line>).\n",
       "\n",
       "Review of Systems:\n",
       "- The patient denies any other symptoms such as fever, chills, night sweats, chest pain, shortness of breath, dizziness, or changes in appetite or weight (<line>46</line>-<line>81</line>).\n",
       "- The patient reports occasional wheezing when coughing (<line>107</line>, <line>108</line>).\n",
       "- The patient reports their eyes becoming itchy when they are outside, especially when the cough is worse (<line>55</line>, <line>56</line>).\n",
       "\n",
       "Past Medical History:\n",
       "- Eczema in childhood (<line>60</line>, <line>61</line>)\n",
       "- Possible asthma in childhood (<line>29</line>, <line>41</line>, <line>43</line>, <line>44</line>)\n",
       "- No other significant medical conditions (<line>99</line>, <line>100</line>)\n",
       "\n",
       "Assessment:\n",
       "- The patient's symptoms, including the dry cough, intermittent wheezing, and history of eczema and possible childhood asthma, suggest the possibility of asthma or a viral upper respiratory tract infection.\n",
       "\n",
       "Plan:\n",
       "1. Perform pulmonary function tests to assess for asthma (<line>154</line>).\n",
       "2. Trial the use of a bronchodilator (the patient's son's inhaler) to see if it provides symptomatic relief (<line>154</line>).\n",
       "3. Advise the patient to avoid potential triggers, such as exercise and cold weather, that may worsen the cough (<line>13</line>, <line>14</line>, <line>15</line>).\n",
       "4. Discuss smoking cessation and provide resources, as the patient recently quit smoking (<line>138</line>, <line>139</line>).\n",
       "5. Monitor the patient's progress and consider further evaluation or treatment if the cough persists or worsens.\n",
       "\n",
       "Physical Examination:\n",
       "A comprehensive physical examination should be performed to assess the patient's respiratory system and rule out any other underlying conditions."
      ]
     },
     "metadata": {},
     "output_type": "display_data"
    },
    {
     "name": "stdout",
     "output_type": "stream",
     "text": [
      "CPU times: user 6.07 ms, sys: 142 μs, total: 6.21 ms\n",
      "Wall time: 6.28 s\n"
     ]
    }
   ],
   "source": [
    "%%time\n",
    "modelId = 'anthropic.claude-3-haiku-20240307-v1:0'\n",
    "response = bedrock_runtime.invoke_model(body=body, modelId=modelId, accept=accept, contentType=contentType)\n",
    "response_body = json.loads(response[\"body\"].read())\n",
    "completion = response_body[\"content\"][0][\"text\"]\n",
    "display_markdown(Markdown(''.join(completion)))"
   ]
  },
  {
   "cell_type": "markdown",
   "id": "1da4c276def4d5fc",
   "metadata": {},
   "source": [
    "  "
   ]
  }
 ],
 "metadata": {
  "availableInstances": [
   {
    "_defaultOrder": 0,
    "_isFastLaunch": true,
    "category": "General purpose",
    "gpuNum": 0,
    "hideHardwareSpecs": false,
    "memoryGiB": 4,
    "name": "ml.t3.medium",
    "vcpuNum": 2
   },
   {
    "_defaultOrder": 1,
    "_isFastLaunch": false,
    "category": "General purpose",
    "gpuNum": 0,
    "hideHardwareSpecs": false,
    "memoryGiB": 8,
    "name": "ml.t3.large",
    "vcpuNum": 2
   },
   {
    "_defaultOrder": 2,
    "_isFastLaunch": false,
    "category": "General purpose",
    "gpuNum": 0,
    "hideHardwareSpecs": false,
    "memoryGiB": 16,
    "name": "ml.t3.xlarge",
    "vcpuNum": 4
   },
   {
    "_defaultOrder": 3,
    "_isFastLaunch": false,
    "category": "General purpose",
    "gpuNum": 0,
    "hideHardwareSpecs": false,
    "memoryGiB": 32,
    "name": "ml.t3.2xlarge",
    "vcpuNum": 8
   },
   {
    "_defaultOrder": 4,
    "_isFastLaunch": true,
    "category": "General purpose",
    "gpuNum": 0,
    "hideHardwareSpecs": false,
    "memoryGiB": 8,
    "name": "ml.m5.large",
    "vcpuNum": 2
   },
   {
    "_defaultOrder": 5,
    "_isFastLaunch": false,
    "category": "General purpose",
    "gpuNum": 0,
    "hideHardwareSpecs": false,
    "memoryGiB": 16,
    "name": "ml.m5.xlarge",
    "vcpuNum": 4
   },
   {
    "_defaultOrder": 6,
    "_isFastLaunch": false,
    "category": "General purpose",
    "gpuNum": 0,
    "hideHardwareSpecs": false,
    "memoryGiB": 32,
    "name": "ml.m5.2xlarge",
    "vcpuNum": 8
   },
   {
    "_defaultOrder": 7,
    "_isFastLaunch": false,
    "category": "General purpose",
    "gpuNum": 0,
    "hideHardwareSpecs": false,
    "memoryGiB": 64,
    "name": "ml.m5.4xlarge",
    "vcpuNum": 16
   },
   {
    "_defaultOrder": 8,
    "_isFastLaunch": false,
    "category": "General purpose",
    "gpuNum": 0,
    "hideHardwareSpecs": false,
    "memoryGiB": 128,
    "name": "ml.m5.8xlarge",
    "vcpuNum": 32
   },
   {
    "_defaultOrder": 9,
    "_isFastLaunch": false,
    "category": "General purpose",
    "gpuNum": 0,
    "hideHardwareSpecs": false,
    "memoryGiB": 192,
    "name": "ml.m5.12xlarge",
    "vcpuNum": 48
   },
   {
    "_defaultOrder": 10,
    "_isFastLaunch": false,
    "category": "General purpose",
    "gpuNum": 0,
    "hideHardwareSpecs": false,
    "memoryGiB": 256,
    "name": "ml.m5.16xlarge",
    "vcpuNum": 64
   },
   {
    "_defaultOrder": 11,
    "_isFastLaunch": false,
    "category": "General purpose",
    "gpuNum": 0,
    "hideHardwareSpecs": false,
    "memoryGiB": 384,
    "name": "ml.m5.24xlarge",
    "vcpuNum": 96
   },
   {
    "_defaultOrder": 12,
    "_isFastLaunch": false,
    "category": "General purpose",
    "gpuNum": 0,
    "hideHardwareSpecs": false,
    "memoryGiB": 8,
    "name": "ml.m5d.large",
    "vcpuNum": 2
   },
   {
    "_defaultOrder": 13,
    "_isFastLaunch": false,
    "category": "General purpose",
    "gpuNum": 0,
    "hideHardwareSpecs": false,
    "memoryGiB": 16,
    "name": "ml.m5d.xlarge",
    "vcpuNum": 4
   },
   {
    "_defaultOrder": 14,
    "_isFastLaunch": false,
    "category": "General purpose",
    "gpuNum": 0,
    "hideHardwareSpecs": false,
    "memoryGiB": 32,
    "name": "ml.m5d.2xlarge",
    "vcpuNum": 8
   },
   {
    "_defaultOrder": 15,
    "_isFastLaunch": false,
    "category": "General purpose",
    "gpuNum": 0,
    "hideHardwareSpecs": false,
    "memoryGiB": 64,
    "name": "ml.m5d.4xlarge",
    "vcpuNum": 16
   },
   {
    "_defaultOrder": 16,
    "_isFastLaunch": false,
    "category": "General purpose",
    "gpuNum": 0,
    "hideHardwareSpecs": false,
    "memoryGiB": 128,
    "name": "ml.m5d.8xlarge",
    "vcpuNum": 32
   },
   {
    "_defaultOrder": 17,
    "_isFastLaunch": false,
    "category": "General purpose",
    "gpuNum": 0,
    "hideHardwareSpecs": false,
    "memoryGiB": 192,
    "name": "ml.m5d.12xlarge",
    "vcpuNum": 48
   },
   {
    "_defaultOrder": 18,
    "_isFastLaunch": false,
    "category": "General purpose",
    "gpuNum": 0,
    "hideHardwareSpecs": false,
    "memoryGiB": 256,
    "name": "ml.m5d.16xlarge",
    "vcpuNum": 64
   },
   {
    "_defaultOrder": 19,
    "_isFastLaunch": false,
    "category": "General purpose",
    "gpuNum": 0,
    "hideHardwareSpecs": false,
    "memoryGiB": 384,
    "name": "ml.m5d.24xlarge",
    "vcpuNum": 96
   },
   {
    "_defaultOrder": 20,
    "_isFastLaunch": false,
    "category": "General purpose",
    "gpuNum": 0,
    "hideHardwareSpecs": true,
    "memoryGiB": 0,
    "name": "ml.geospatial.interactive",
    "supportedImageNames": [
     "sagemaker-geospatial-v1-0"
    ],
    "vcpuNum": 0
   },
   {
    "_defaultOrder": 21,
    "_isFastLaunch": true,
    "category": "Compute optimized",
    "gpuNum": 0,
    "hideHardwareSpecs": false,
    "memoryGiB": 4,
    "name": "ml.c5.large",
    "vcpuNum": 2
   },
   {
    "_defaultOrder": 22,
    "_isFastLaunch": false,
    "category": "Compute optimized",
    "gpuNum": 0,
    "hideHardwareSpecs": false,
    "memoryGiB": 8,
    "name": "ml.c5.xlarge",
    "vcpuNum": 4
   },
   {
    "_defaultOrder": 23,
    "_isFastLaunch": false,
    "category": "Compute optimized",
    "gpuNum": 0,
    "hideHardwareSpecs": false,
    "memoryGiB": 16,
    "name": "ml.c5.2xlarge",
    "vcpuNum": 8
   },
   {
    "_defaultOrder": 24,
    "_isFastLaunch": false,
    "category": "Compute optimized",
    "gpuNum": 0,
    "hideHardwareSpecs": false,
    "memoryGiB": 32,
    "name": "ml.c5.4xlarge",
    "vcpuNum": 16
   },
   {
    "_defaultOrder": 25,
    "_isFastLaunch": false,
    "category": "Compute optimized",
    "gpuNum": 0,
    "hideHardwareSpecs": false,
    "memoryGiB": 72,
    "name": "ml.c5.9xlarge",
    "vcpuNum": 36
   },
   {
    "_defaultOrder": 26,
    "_isFastLaunch": false,
    "category": "Compute optimized",
    "gpuNum": 0,
    "hideHardwareSpecs": false,
    "memoryGiB": 96,
    "name": "ml.c5.12xlarge",
    "vcpuNum": 48
   },
   {
    "_defaultOrder": 27,
    "_isFastLaunch": false,
    "category": "Compute optimized",
    "gpuNum": 0,
    "hideHardwareSpecs": false,
    "memoryGiB": 144,
    "name": "ml.c5.18xlarge",
    "vcpuNum": 72
   },
   {
    "_defaultOrder": 28,
    "_isFastLaunch": false,
    "category": "Compute optimized",
    "gpuNum": 0,
    "hideHardwareSpecs": false,
    "memoryGiB": 192,
    "name": "ml.c5.24xlarge",
    "vcpuNum": 96
   },
   {
    "_defaultOrder": 29,
    "_isFastLaunch": true,
    "category": "Accelerated computing",
    "gpuNum": 1,
    "hideHardwareSpecs": false,
    "memoryGiB": 16,
    "name": "ml.g4dn.xlarge",
    "vcpuNum": 4
   },
   {
    "_defaultOrder": 30,
    "_isFastLaunch": false,
    "category": "Accelerated computing",
    "gpuNum": 1,
    "hideHardwareSpecs": false,
    "memoryGiB": 32,
    "name": "ml.g4dn.2xlarge",
    "vcpuNum": 8
   },
   {
    "_defaultOrder": 31,
    "_isFastLaunch": false,
    "category": "Accelerated computing",
    "gpuNum": 1,
    "hideHardwareSpecs": false,
    "memoryGiB": 64,
    "name": "ml.g4dn.4xlarge",
    "vcpuNum": 16
   },
   {
    "_defaultOrder": 32,
    "_isFastLaunch": false,
    "category": "Accelerated computing",
    "gpuNum": 1,
    "hideHardwareSpecs": false,
    "memoryGiB": 128,
    "name": "ml.g4dn.8xlarge",
    "vcpuNum": 32
   },
   {
    "_defaultOrder": 33,
    "_isFastLaunch": false,
    "category": "Accelerated computing",
    "gpuNum": 4,
    "hideHardwareSpecs": false,
    "memoryGiB": 192,
    "name": "ml.g4dn.12xlarge",
    "vcpuNum": 48
   },
   {
    "_defaultOrder": 34,
    "_isFastLaunch": false,
    "category": "Accelerated computing",
    "gpuNum": 1,
    "hideHardwareSpecs": false,
    "memoryGiB": 256,
    "name": "ml.g4dn.16xlarge",
    "vcpuNum": 64
   },
   {
    "_defaultOrder": 35,
    "_isFastLaunch": false,
    "category": "Accelerated computing",
    "gpuNum": 1,
    "hideHardwareSpecs": false,
    "memoryGiB": 61,
    "name": "ml.p3.2xlarge",
    "vcpuNum": 8
   },
   {
    "_defaultOrder": 36,
    "_isFastLaunch": false,
    "category": "Accelerated computing",
    "gpuNum": 4,
    "hideHardwareSpecs": false,
    "memoryGiB": 244,
    "name": "ml.p3.8xlarge",
    "vcpuNum": 32
   },
   {
    "_defaultOrder": 37,
    "_isFastLaunch": false,
    "category": "Accelerated computing",
    "gpuNum": 8,
    "hideHardwareSpecs": false,
    "memoryGiB": 488,
    "name": "ml.p3.16xlarge",
    "vcpuNum": 64
   },
   {
    "_defaultOrder": 38,
    "_isFastLaunch": false,
    "category": "Accelerated computing",
    "gpuNum": 8,
    "hideHardwareSpecs": false,
    "memoryGiB": 768,
    "name": "ml.p3dn.24xlarge",
    "vcpuNum": 96
   },
   {
    "_defaultOrder": 39,
    "_isFastLaunch": false,
    "category": "Memory Optimized",
    "gpuNum": 0,
    "hideHardwareSpecs": false,
    "memoryGiB": 16,
    "name": "ml.r5.large",
    "vcpuNum": 2
   },
   {
    "_defaultOrder": 40,
    "_isFastLaunch": false,
    "category": "Memory Optimized",
    "gpuNum": 0,
    "hideHardwareSpecs": false,
    "memoryGiB": 32,
    "name": "ml.r5.xlarge",
    "vcpuNum": 4
   },
   {
    "_defaultOrder": 41,
    "_isFastLaunch": false,
    "category": "Memory Optimized",
    "gpuNum": 0,
    "hideHardwareSpecs": false,
    "memoryGiB": 64,
    "name": "ml.r5.2xlarge",
    "vcpuNum": 8
   },
   {
    "_defaultOrder": 42,
    "_isFastLaunch": false,
    "category": "Memory Optimized",
    "gpuNum": 0,
    "hideHardwareSpecs": false,
    "memoryGiB": 128,
    "name": "ml.r5.4xlarge",
    "vcpuNum": 16
   },
   {
    "_defaultOrder": 43,
    "_isFastLaunch": false,
    "category": "Memory Optimized",
    "gpuNum": 0,
    "hideHardwareSpecs": false,
    "memoryGiB": 256,
    "name": "ml.r5.8xlarge",
    "vcpuNum": 32
   },
   {
    "_defaultOrder": 44,
    "_isFastLaunch": false,
    "category": "Memory Optimized",
    "gpuNum": 0,
    "hideHardwareSpecs": false,
    "memoryGiB": 384,
    "name": "ml.r5.12xlarge",
    "vcpuNum": 48
   },
   {
    "_defaultOrder": 45,
    "_isFastLaunch": false,
    "category": "Memory Optimized",
    "gpuNum": 0,
    "hideHardwareSpecs": false,
    "memoryGiB": 512,
    "name": "ml.r5.16xlarge",
    "vcpuNum": 64
   },
   {
    "_defaultOrder": 46,
    "_isFastLaunch": false,
    "category": "Memory Optimized",
    "gpuNum": 0,
    "hideHardwareSpecs": false,
    "memoryGiB": 768,
    "name": "ml.r5.24xlarge",
    "vcpuNum": 96
   },
   {
    "_defaultOrder": 47,
    "_isFastLaunch": false,
    "category": "Accelerated computing",
    "gpuNum": 1,
    "hideHardwareSpecs": false,
    "memoryGiB": 16,
    "name": "ml.g5.xlarge",
    "vcpuNum": 4
   },
   {
    "_defaultOrder": 48,
    "_isFastLaunch": false,
    "category": "Accelerated computing",
    "gpuNum": 1,
    "hideHardwareSpecs": false,
    "memoryGiB": 32,
    "name": "ml.g5.2xlarge",
    "vcpuNum": 8
   },
   {
    "_defaultOrder": 49,
    "_isFastLaunch": false,
    "category": "Accelerated computing",
    "gpuNum": 1,
    "hideHardwareSpecs": false,
    "memoryGiB": 64,
    "name": "ml.g5.4xlarge",
    "vcpuNum": 16
   },
   {
    "_defaultOrder": 50,
    "_isFastLaunch": false,
    "category": "Accelerated computing",
    "gpuNum": 1,
    "hideHardwareSpecs": false,
    "memoryGiB": 128,
    "name": "ml.g5.8xlarge",
    "vcpuNum": 32
   },
   {
    "_defaultOrder": 51,
    "_isFastLaunch": false,
    "category": "Accelerated computing",
    "gpuNum": 1,
    "hideHardwareSpecs": false,
    "memoryGiB": 256,
    "name": "ml.g5.16xlarge",
    "vcpuNum": 64
   },
   {
    "_defaultOrder": 52,
    "_isFastLaunch": false,
    "category": "Accelerated computing",
    "gpuNum": 4,
    "hideHardwareSpecs": false,
    "memoryGiB": 192,
    "name": "ml.g5.12xlarge",
    "vcpuNum": 48
   },
   {
    "_defaultOrder": 53,
    "_isFastLaunch": false,
    "category": "Accelerated computing",
    "gpuNum": 4,
    "hideHardwareSpecs": false,
    "memoryGiB": 384,
    "name": "ml.g5.24xlarge",
    "vcpuNum": 96
   },
   {
    "_defaultOrder": 54,
    "_isFastLaunch": false,
    "category": "Accelerated computing",
    "gpuNum": 8,
    "hideHardwareSpecs": false,
    "memoryGiB": 768,
    "name": "ml.g5.48xlarge",
    "vcpuNum": 192
   },
   {
    "_defaultOrder": 55,
    "_isFastLaunch": false,
    "category": "Accelerated computing",
    "gpuNum": 8,
    "hideHardwareSpecs": false,
    "memoryGiB": 1152,
    "name": "ml.p4d.24xlarge",
    "vcpuNum": 96
   },
   {
    "_defaultOrder": 56,
    "_isFastLaunch": false,
    "category": "Accelerated computing",
    "gpuNum": 8,
    "hideHardwareSpecs": false,
    "memoryGiB": 1152,
    "name": "ml.p4de.24xlarge",
    "vcpuNum": 96
   }
  ],
  "instance_type": "ml.t3.large",
  "kernelspec": {
   "display_name": "conda_python3",
   "language": "python",
   "name": "conda_python3"
  },
  "language_info": {
   "codemirror_mode": {
    "name": "ipython",
    "version": 3
   },
   "file_extension": ".py",
   "mimetype": "text/x-python",
   "name": "python",
   "nbconvert_exporter": "python",
   "pygments_lexer": "ipython3",
   "version": "3.10.14"
  }
 },
 "nbformat": 4,
 "nbformat_minor": 5
}
